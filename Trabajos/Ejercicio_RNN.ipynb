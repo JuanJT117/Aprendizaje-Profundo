{
 "cells": [
  {
   "cell_type": "code",
   "execution_count": 269,
   "metadata": {},
   "outputs": [],
   "source": [
    "import numpy as np\n",
    "import pandas as pd\n",
    "\n",
    "from keras.layers import LSTM\n",
    "from __future__ import print_function\n",
    "from keras.layers import SimpleRNN\n",
    "from keras.models import Sequential\n",
    "from keras.layers import Dense, Activation"
   ]
  },
  {
   "cell_type": "code",
   "execution_count": 270,
   "metadata": {},
   "outputs": [],
   "source": [
    "import matplotlib.pyplot as plt\n",
    "%matplotlib inline\n",
    "from sklearn import preprocessing\n",
    "import math, time\n",
    "from sklearn.metrics import mean_squared_error"
   ]
  },
  {
   "cell_type": "code",
   "execution_count": 271,
   "metadata": {},
   "outputs": [
    {
     "data": {
      "text/html": [
       "<div>\n",
       "<style scoped>\n",
       "    .dataframe tbody tr th:only-of-type {\n",
       "        vertical-align: middle;\n",
       "    }\n",
       "\n",
       "    .dataframe tbody tr th {\n",
       "        vertical-align: top;\n",
       "    }\n",
       "\n",
       "    .dataframe thead th {\n",
       "        text-align: right;\n",
       "    }\n",
       "</style>\n",
       "<table border=\"1\" class=\"dataframe\">\n",
       "  <thead>\n",
       "    <tr style=\"text-align: right;\">\n",
       "      <th></th>\n",
       "      <th>AB/2</th>\n",
       "      <th>Rha</th>\n",
       "    </tr>\n",
       "  </thead>\n",
       "  <tbody>\n",
       "    <tr>\n",
       "      <th>0</th>\n",
       "      <td>2</td>\n",
       "      <td>209.439510</td>\n",
       "    </tr>\n",
       "    <tr>\n",
       "      <th>1</th>\n",
       "      <td>3</td>\n",
       "      <td>138.230077</td>\n",
       "    </tr>\n",
       "    <tr>\n",
       "      <th>2</th>\n",
       "      <td>5</td>\n",
       "      <td>85.571479</td>\n",
       "    </tr>\n",
       "    <tr>\n",
       "      <th>3</th>\n",
       "      <td>5</td>\n",
       "      <td>44.376310</td>\n",
       "    </tr>\n",
       "    <tr>\n",
       "      <th>4</th>\n",
       "      <td>8</td>\n",
       "      <td>75.483158</td>\n",
       "    </tr>\n",
       "  </tbody>\n",
       "</table>\n",
       "</div>"
      ],
      "text/plain": [
       "   AB/2         Rha\n",
       "0     2  209.439510\n",
       "1     3  138.230077\n",
       "2     5   85.571479\n",
       "3     5   44.376310\n",
       "4     8   75.483158"
      ]
     },
     "execution_count": 271,
     "metadata": {},
     "output_type": "execute_result"
    }
   ],
   "source": [
    "data = pd.read_csv('C:/Users/juanj/Documents/GitHub/Aprendizaje-Profundo/S1CCEBSA.csv')\n",
    "data.head()"
   ]
  },
  {
   "cell_type": "code",
   "execution_count": 272,
   "metadata": {},
   "outputs": [
    {
     "data": {
      "image/png": "[encoded data removed]",
      "text/plain": [
       "<Figure size 640x480 with 1 Axes>"
      ]
     },
     "metadata": {},
     "output_type": "display_data"
    }
   ],
   "source": [
    "plt.plot(data['Rha'])\n",
    "plt.show()"
   ]
  },
  {
   "cell_type": "code",
   "execution_count": 273,
   "metadata": {},
   "outputs": [
    {
     "data": {
      "text/plain": [
       "33"
      ]
     },
     "execution_count": 273,
     "metadata": {},
     "output_type": "execute_result"
    }
   ],
   "source": [
    "len(data)"
   ]
  },
  {
   "cell_type": "code",
   "execution_count": 274,
   "metadata": {},
   "outputs": [],
   "source": [
    "#normalizamos\n",
    "\n",
    "min_max_scaler = preprocessing.MinMaxScaler(feature_range=(0,1))\n",
    "data = min_max_scaler.fit_transform(data['Rha'].values.reshape(-1,1))"
   ]
  },
  {
   "cell_type": "code",
   "execution_count": 275,
   "metadata": {},
   "outputs": [
    {
     "data": {
      "text/plain": [
       "(33, 1)"
      ]
     },
     "execution_count": 275,
     "metadata": {},
     "output_type": "execute_result"
    }
   ],
   "source": [
    "data.shape"
   ]
  },
  {
   "cell_type": "code",
   "execution_count": 276,
   "metadata": {},
   "outputs": [
    {
     "data": {
      "text/plain": [
       "array([[0.11519052],\n",
       "       [0.06664329],\n",
       "       [0.03074315],\n",
       "       [0.00265823],\n",
       "       [0.02386541],\n",
       "       [0.02679921],\n",
       "       [0.02543934],\n",
       "       [0.01567243],\n",
       "       [0.01573844],\n",
       "       [0.00854231]])"
      ]
     },
     "execution_count": 276,
     "metadata": {},
     "output_type": "execute_result"
    }
   ],
   "source": [
    "data[0:10]"
   ]
  },
  {
   "cell_type": "code",
   "execution_count": 277,
   "metadata": {},
   "outputs": [
    {
     "name": "stdout",
     "output_type": "stream",
     "text": [
      "23 10\n"
     ]
    }
   ],
   "source": [
    "train_size =int(len(data)* 0.7)\n",
    "test_size =len(data)- train_size\n",
    "train, test =data[0:train_size,:], data[train_size:len(data),:]\n",
    "print(len(train),len(test))"
   ]
  },
  {
   "cell_type": "code",
   "execution_count": 278,
   "metadata": {},
   "outputs": [],
   "source": [
    "def create_matrix(data, look_back=5):\n",
    "    dataX, dataY = [],[]\n",
    "    for i in range(len(data)-look_back-1):\n",
    "        a = data[i:(i+look_back),0]\n",
    "        dataX.append(a)\n",
    "        dataY.append(data[i + look_back,0])\n",
    "    return np.array(dataX), np.array(dataY)"
   ]
  },
  {
   "cell_type": "code",
   "execution_count": 279,
   "metadata": {},
   "outputs": [],
   "source": [
    "x_train, y_train = create_matrix(train, look_back=5)\n",
    "x_test, y_test = create_matrix(test, look_back=5)"
   ]
  },
  {
   "cell_type": "code",
   "execution_count": 280,
   "metadata": {},
   "outputs": [
    {
     "data": {
      "text/plain": [
       "array([[0.11519052, 0.06664329, 0.03074315, 0.00265823, 0.02386541],\n",
       "       [0.06664329, 0.03074315, 0.00265823, 0.02386541, 0.02679921],\n",
       "       [0.03074315, 0.00265823, 0.02386541, 0.02679921, 0.02543934],\n",
       "       [0.00265823, 0.02386541, 0.02679921, 0.02543934, 0.01567243],\n",
       "       [0.02386541, 0.02679921, 0.02543934, 0.01567243, 0.01573844],\n",
       "       [0.02679921, 0.02543934, 0.01567243, 0.01573844, 0.00854231],\n",
       "       [0.02543934, 0.01567243, 0.01573844, 0.00854231, 0.00883604],\n",
       "       [0.01567243, 0.01573844, 0.00854231, 0.00883604, 0.00668448],\n",
       "       [0.01573844, 0.00854231, 0.00883604, 0.00668448, 0.01026833],\n",
       "       [0.00854231, 0.00883604, 0.00668448, 0.01026833, 0.00454926],\n",
       "       [0.00883604, 0.00668448, 0.01026833, 0.00454926, 0.00881109],\n",
       "       [0.00668448, 0.01026833, 0.00454926, 0.00881109, 0.        ],\n",
       "       [0.01026833, 0.00454926, 0.00881109, 0.        , 0.00249117],\n",
       "       [0.00454926, 0.00881109, 0.        , 0.00249117, 0.03167017],\n",
       "       [0.00881109, 0.        , 0.00249117, 0.03167017, 0.02600595],\n",
       "       [0.        , 0.00249117, 0.03167017, 0.02600595, 0.02187516],\n",
       "       [0.00249117, 0.03167017, 0.02600595, 0.02187516, 0.0244187 ]])"
      ]
     },
     "metadata": {},
     "output_type": "display_data"
    }
   ],
   "source": [
    "display(x_train)"
   ]
  },
  {
   "cell_type": "code",
   "execution_count": 281,
   "metadata": {},
   "outputs": [
    {
     "name": "stdout",
     "output_type": "stream",
     "text": [
      "(17, 5)\n",
      "(17,)\n",
      "(4, 5)\n",
      "(4,)\n"
     ]
    }
   ],
   "source": [
    "print(x_train.shape)\n",
    "print(y_train.shape)\n",
    "print(x_test.shape)\n",
    "print(y_test.shape)"
   ]
  },
  {
   "cell_type": "code",
   "execution_count": 282,
   "metadata": {},
   "outputs": [],
   "source": [
    "x_train = np.reshape(x_train, (x_train.shape[0], 1, x_train.shape[1]))\n",
    "x_test = np.reshape(x_test, (x_test.shape[0], 1, x_test.shape[1]))"
   ]
  },
  {
   "cell_type": "code",
   "execution_count": 283,
   "metadata": {},
   "outputs": [
    {
     "data": {
      "text/plain": [
       "array([[[0.11519052, 0.06664329, 0.03074315, 0.00265823, 0.02386541]],\n",
       "\n",
       "       [[0.06664329, 0.03074315, 0.00265823, 0.02386541, 0.02679921]],\n",
       "\n",
       "       [[0.03074315, 0.00265823, 0.02386541, 0.02679921, 0.02543934]],\n",
       "\n",
       "       [[0.00265823, 0.02386541, 0.02679921, 0.02543934, 0.01567243]],\n",
       "\n",
       "       [[0.02386541, 0.02679921, 0.02543934, 0.01567243, 0.01573844]],\n",
       "\n",
       "       [[0.02679921, 0.02543934, 0.01567243, 0.01573844, 0.00854231]],\n",
       "\n",
       "       [[0.02543934, 0.01567243, 0.01573844, 0.00854231, 0.00883604]],\n",
       "\n",
       "       [[0.01567243, 0.01573844, 0.00854231, 0.00883604, 0.00668448]],\n",
       "\n",
       "       [[0.01573844, 0.00854231, 0.00883604, 0.00668448, 0.01026833]],\n",
       "\n",
       "       [[0.00854231, 0.00883604, 0.00668448, 0.01026833, 0.00454926]],\n",
       "\n",
       "       [[0.00883604, 0.00668448, 0.01026833, 0.00454926, 0.00881109]],\n",
       "\n",
       "       [[0.00668448, 0.01026833, 0.00454926, 0.00881109, 0.        ]],\n",
       "\n",
       "       [[0.01026833, 0.00454926, 0.00881109, 0.        , 0.00249117]],\n",
       "\n",
       "       [[0.00454926, 0.00881109, 0.        , 0.00249117, 0.03167017]],\n",
       "\n",
       "       [[0.00881109, 0.        , 0.00249117, 0.03167017, 0.02600595]],\n",
       "\n",
       "       [[0.        , 0.00249117, 0.03167017, 0.02600595, 0.02187516]],\n",
       "\n",
       "       [[0.00249117, 0.03167017, 0.02600595, 0.02187516, 0.0244187 ]]])"
      ]
     },
     "execution_count": 283,
     "metadata": {},
     "output_type": "execute_result"
    }
   ],
   "source": [
    "x_train"
   ]
  },
  {
   "cell_type": "code",
   "execution_count": 284,
   "metadata": {},
   "outputs": [
    {
     "name": "stdout",
     "output_type": "stream",
     "text": [
      "(17, 1, 5)\n",
      "(17,)\n",
      "(4, 1, 5)\n",
      "(4,)\n"
     ]
    }
   ],
   "source": [
    "print(x_train.shape)\n",
    "print(y_train.shape)\n",
    "print(x_test.shape)\n",
    "print(y_test.shape)"
   ]
  },
  {
   "cell_type": "code",
   "execution_count": 285,
   "metadata": {},
   "outputs": [
    {
     "name": "stdout",
     "output_type": "stream",
     "text": [
      "Epoch 1/20\n",
      "17/17 - 1s - loss: 152490.8125 - 1s/epoch - 87ms/step\n",
      "Epoch 2/20\n",
      "17/17 - 0s - loss: 594307.6250 - 41ms/epoch - 2ms/step\n",
      "Epoch 3/20\n",
      "17/17 - 0s - loss: 536490.0625 - 27ms/epoch - 2ms/step\n",
      "Epoch 4/20\n",
      "17/17 - 0s - loss: 409091.2188 - 29ms/epoch - 2ms/step\n",
      "Epoch 5/20\n",
      "17/17 - 0s - loss: 21485.2422 - 27ms/epoch - 2ms/step\n",
      "Epoch 6/20\n",
      "17/17 - 0s - loss: 214470.1875 - 28ms/epoch - 2ms/step\n",
      "Epoch 7/20\n",
      "17/17 - 0s - loss: 77894.5703 - 22ms/epoch - 1ms/step\n",
      "Epoch 8/20\n",
      "17/17 - 0s - loss: 348538.5625 - 26ms/epoch - 2ms/step\n",
      "Epoch 9/20\n",
      "17/17 - 0s - loss: 38879.4062 - 30ms/epoch - 2ms/step\n",
      "Epoch 10/20\n",
      "17/17 - 0s - loss: 295153.0312 - 27ms/epoch - 2ms/step\n",
      "Epoch 11/20\n",
      "17/17 - 0s - loss: 35569.8164 - 35ms/epoch - 2ms/step\n",
      "Epoch 12/20\n",
      "17/17 - 0s - loss: 398423.4062 - 36ms/epoch - 2ms/step\n",
      "Epoch 13/20\n",
      "17/17 - 0s - loss: 28265.9590 - 35ms/epoch - 2ms/step\n",
      "Epoch 14/20\n",
      "17/17 - 0s - loss: 322853.9062 - 37ms/epoch - 2ms/step\n",
      "Epoch 15/20\n",
      "17/17 - 0s - loss: 10447.6572 - 40ms/epoch - 2ms/step\n",
      "Epoch 16/20\n",
      "17/17 - 0s - loss: 360119.6562 - 42ms/epoch - 2ms/step\n",
      "Epoch 17/20\n",
      "17/17 - 0s - loss: 233291.4688 - 33ms/epoch - 2ms/step\n",
      "Epoch 18/20\n",
      "17/17 - 0s - loss: 504657.5312 - 37ms/epoch - 2ms/step\n",
      "Epoch 19/20\n",
      "17/17 - 0s - loss: 123603.4688 - 34ms/epoch - 2ms/step\n",
      "Epoch 20/20\n",
      "17/17 - 0s - loss: 211101.0469 - 32ms/epoch - 2ms/step\n"
     ]
    },
    {
     "data": {
      "text/plain": [
       "<keras.callbacks.History at 0x1c23cf9c4f0>"
      ]
     },
     "execution_count": 285,
     "metadata": {},
     "output_type": "execute_result"
    }
   ],
   "source": [
    "look_back = 5\n",
    "model = Sequential()\n",
    "model.add(LSTM(20, input_shape=(1, look_back)))\n",
    "model.add(Dense(1))\n",
    "model.compile(loss='mape', optimizer='adam')\n",
    "model.fit(x_train, y_train, epochs=20, batch_size=1, verbose=2)\n"
   ]
  },
  {
   "cell_type": "code",
   "execution_count": 286,
   "metadata": {},
   "outputs": [
    {
     "name": "stdout",
     "output_type": "stream",
     "text": [
      "1/1 [==============================] - 0s 451ms/step\n",
      "1/1 [==============================] - 0s 20ms/step\n"
     ]
    }
   ],
   "source": [
    "trainPrediction = model.predict(x_train)\n",
    "testPrediction = model.predict(x_test)"
   ]
  },
  {
   "cell_type": "code",
   "execution_count": 287,
   "metadata": {},
   "outputs": [
    {
     "data": {
      "text/plain": [
       "array([[-7.7141495e-03],\n",
       "       [-2.8309340e-03],\n",
       "       [ 1.5103860e-03],\n",
       "       [ 1.6410891e-03],\n",
       "       [-2.8107295e-04],\n",
       "       [-1.1108089e-03],\n",
       "       [-8.5367402e-04],\n",
       "       [-6.1590754e-04],\n",
       "       [-1.4941706e-04],\n",
       "       [ 4.7935690e-05],\n",
       "       [ 2.2955687e-04],\n",
       "       [-3.0269235e-04],\n",
       "       [-3.5637373e-04],\n",
       "       [ 1.1987668e-03],\n",
       "       [ 2.5084617e-03],\n",
       "       [ 3.4042466e-03],\n",
       "       [ 1.5484100e-03]], dtype=float32)"
      ]
     },
     "execution_count": 287,
     "metadata": {},
     "output_type": "execute_result"
    }
   ],
   "source": [
    "trainPrediction"
   ]
  },
  {
   "cell_type": "code",
   "execution_count": 288,
   "metadata": {},
   "outputs": [],
   "source": [
    "trainPrediction = min_max_scaler.inverse_transform(trainPrediction)\n",
    "trainY = min_max_scaler.inverse_transform([y_train])\n",
    "testPrediction = min_max_scaler.inverse_transform(testPrediction)\n",
    "testY = min_max_scaler.inverse_transform([y_test])"
   ]
  },
  {
   "cell_type": "code",
   "execution_count": 289,
   "metadata": {},
   "outputs": [],
   "source": [
    "trainPredictPlot = np.empty_like(data)\n",
    "trainPredictPlot[:, :] = np.nan\n",
    "trainPredictPlot[look_back:len(trainPrediction)+look_back,:] = trainPrediction"
   ]
  },
  {
   "cell_type": "code",
   "execution_count": 290,
   "metadata": {},
   "outputs": [],
   "source": [
    "testPredictPlot = np.empty_like(data)\n",
    "testPredictPlot[:, :] = np.nan\n",
    "testPredictPlot[len(trainPrediction)+(look_back*2)+1:len(data)-1,:] = testPrediction"
   ]
  },
  {
   "cell_type": "code",
   "execution_count": 291,
   "metadata": {},
   "outputs": [
    {
     "data": {
      "image/png": "[encoded data removed]",
      "text/plain": [
       "<Figure size 640x480 with 1 Axes>"
      ]
     },
     "metadata": {},
     "output_type": "display_data"
    }
   ],
   "source": [
    "plt.plot(min_max_scaler.inverse_transform(data))\n",
    "plt.plot(trainPredictPlot)\n",
    "plt.plot(testPredictPlot)\n",
    "plt.show()"
   ]
  }
 ],
 "metadata": {
  "kernelspec": {
   "display_name": "Python 3",
   "language": "python",
   "name": "python3"
  },
  "language_info": {
   "codemirror_mode": {
    "name": "ipython",
    "version": 3
   },
   "file_extension": ".py",
   "mimetype": "text/x-python",
   "name": "python",
   "nbconvert_exporter": "python",
   "pygments_lexer": "ipython3",
   "version": "3.10.10"
  },
  "orig_nbformat": 4
 },
 "nbformat": 4,
 "nbformat_minor": 2
}
