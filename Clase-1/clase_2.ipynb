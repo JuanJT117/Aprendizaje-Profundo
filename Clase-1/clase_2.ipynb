{
 "cells": [
  {
   "cell_type": "code",
   "execution_count": 3,
   "metadata": {},
   "outputs": [],
   "source": [
    "import pandas as pd\n",
    "import numpy as np\n"
   ]
  },
  {
   "cell_type": "code",
   "execution_count": 4,
   "metadata": {},
   "outputs": [],
   "source": [
    "def neurona2(a1): #SYNPSYS\n",
    "    w1=0.3\n",
    "    "
   ]
  },
  {
   "cell_type": "code",
   "execution_count": 5,
   "metadata": {},
   "outputs": [],
   "source": [
    "def sigmoid(x):\n",
    "    return 1/(1)"
   ]
  },
  {
   "cell_type": "code",
   "execution_count": 6,
   "metadata": {},
   "outputs": [],
   "source": [
    "#TANGENTE HIPERBOLICA\n",
    "\n",
    "def tanh(x):\n",
    "    numerador=1-np.exp(-2*x)\n",
    "    denominador=1+np.exp(-2*x)\n",
    "    return numerador/denominador\n"
   ]
  },
  {
   "cell_type": "code",
   "execution_count": 7,
   "metadata": {},
   "outputs": [],
   "source": [
    "#SOFTMAX\n",
    "\n",
    "def softmax(x):\n",
    "    numerador=np.exp(x)\n",
    "    denominador=np.exp(x).sum(axis=0)\n",
    "    return numerador/denominador"
   ]
  },
  {
   "cell_type": "code",
   "execution_count": 8,
   "metadata": {},
   "outputs": [
    {
     "data": {
      "text/plain": [
       "1.0"
      ]
     },
     "execution_count": 8,
     "metadata": {},
     "output_type": "execute_result"
    }
   ],
   "source": [
    "a=softmax(23)\n",
    "a"
   ]
  },
  {
   "cell_type": "code",
   "execution_count": 9,
   "metadata": {},
   "outputs": [
    {
     "data": {
      "text/plain": [
       "array([8.94679497e-04, 1.79701181e-02, 9.81135202e-01])"
      ]
     },
     "execution_count": 9,
     "metadata": {},
     "output_type": "execute_result"
    }
   ],
   "source": [
    "x=[2,5,9]\n",
    "a=softmax(x)\n",
    "a"
   ]
  },
  {
   "cell_type": "code",
   "execution_count": 10,
   "metadata": {},
   "outputs": [
    {
     "data": {
      "text/plain": [
       "array([2.38026641e-26, 3.53262857e-24, 1.00000000e+00])"
      ]
     },
     "execution_count": 10,
     "metadata": {},
     "output_type": "execute_result"
    }
   ],
   "source": [
    "x=np.array([4,9,63])\n",
    "a=softmax(x)\n",
    "a"
   ]
  },
  {
   "attachments": {},
   "cell_type": "markdown",
   "metadata": {},
   "source": [
    "# Ejercico en clase\n",
    "\n",
    "Realizar una red con tres neuronas "
   ]
  },
  {
   "cell_type": "code",
   "execution_count": 17,
   "metadata": {},
   "outputs": [
    {
     "data": {
      "text/plain": [
       "42.569062499999994"
      ]
     },
     "execution_count": 17,
     "metadata": {},
     "output_type": "execute_result"
    }
   ],
   "source": [
    "def neurona1(x1,x2): #Dentrita\n",
    "    w1=.025          #soma\n",
    "    w2=.8            #soma\n",
    "    bias=3           #soma\n",
    "    Suma=w1*x1+w2*x2+bias  #soma funcion de activacion\n",
    "    a1=Suma          #axon\n",
    "    return a1\n",
    "\n",
    "def neurona2(a1): #Dentrita  conexion con neurona 1\n",
    "    w1=.025          #soma\n",
    "    w2=.8            #soma\n",
    "    bias=3           #soma\n",
    "    Suma=w1*a1+w2*a1+bias  #soma \n",
    "    a2=Suma          #axon\n",
    "    return a2\n",
    "\n",
    "def neurona3(a2): #Dentrita conexion con neriona 2\n",
    "    w1=.025          #soma\n",
    "    w2=.8            #soma\n",
    "    bias=3           #soma\n",
    "    Suma=w1*a2+w2*a2+bias  #soma \n",
    "    a3=Suma          #axon\n",
    "    return a3        # resultado de las tres neronas\n",
    "\n",
    "a1 = neurona1(12,64)\n",
    "a2 = neurona2(a1)\n",
    "a3 = neurona3(a2)\n",
    "a3"
   ]
  },
  {
   "cell_type": "markdown",
   "metadata": {},
   "source": []
  }
 ],
 "metadata": {
  "kernelspec": {
   "display_name": "Python 3",
   "language": "python",
   "name": "python3"
  },
  "language_info": {
   "codemirror_mode": {
    "name": "ipython",
    "version": 3
   },
   "file_extension": ".py",
   "mimetype": "text/x-python",
   "name": "python",
   "nbconvert_exporter": "python",
   "pygments_lexer": "ipython3",
   "version": "3.10.10"
  },
  "orig_nbformat": 4
 },
 "nbformat": 4,
 "nbformat_minor": 2
}
