{
 "cells": [
  {
   "attachments": {},
   "cell_type": "markdown",
   "metadata": {},
   "source": [
    "Análisis de riesgos: Las casas de empeño pueden utilizar RNN para analizar el riesgo de impago de los préstamos. Al entrenar un modelo de RNN con datos históricos de préstamos y pagos, se puede predecir la probabilidad de que un cliente no pague su préstamo."
   ]
  },
  {
   "cell_type": "code",
   "execution_count": null,
   "metadata": {},
   "outputs": [],
   "source": [
    "import pandas as pd\n",
    "import numpy as np\n",
    "\n",
    "# Crear un dataframe ficticio de préstamos y pagos\n",
    "data = {\n",
    "    \"id\": np.arange(1, 101),\n",
    "    \"monto_prestamo\": np.random.randint(1000, 10000, size=100),\n",
    "    \"plazo_prestamo\": np.random.randint(1, 12, size=100),\n",
    "    \"tasa_interes\": np.random.uniform(0.05, 0.15, size=100),\n",
    "    \"pago_mensual\": np.random.randint(50, 500, size=100),\n",
    "    \"pago_total\": np.random.randint(1000, 10000, size=100),\n",
    "    \"fecha_prestamo\": pd.date_range(\"2022-01-01\", periods=100),\n",
    "    \"fecha_pago\": pd.date_range(\"2022-02-01\", periods=100)\n",
    "}\n",
    "\n",
    "df = pd.DataFrame(data)\n",
    "\n",
    "print(df.head())"
   ]
  }
 ],
 "metadata": {
  "language_info": {
   "name": "python"
  },
  "orig_nbformat": 4
 },
 "nbformat": 4,
 "nbformat_minor": 2
}
