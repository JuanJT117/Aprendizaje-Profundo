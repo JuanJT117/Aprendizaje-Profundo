{
 "cells": [
  {
   "attachments": {},
   "cell_type": "markdown",
   "metadata": {},
   "source": [
    "# Propagacion hacia delante"
   ]
  },
  {
   "cell_type": "code",
   "execution_count": 9,
   "metadata": {},
   "outputs": [
    {
     "name": "stdout",
     "output_type": "stream",
     "text": [
      "Requirement already satisfied: pandas in c:\\users\\juanj\\appdata\\local\\programs\\python\\python310\\lib\\site-packages (2.0.1)\n",
      "Requirement already satisfied: python-dateutil>=2.8.2 in c:\\users\\juanj\\appdata\\roaming\\python\\python310\\site-packages (from pandas) (2.8.2)\n",
      "Requirement already satisfied: pytz>=2020.1 in c:\\users\\juanj\\appdata\\local\\programs\\python\\python310\\lib\\site-packages (from pandas) (2023.3)\n",
      "Requirement already satisfied: tzdata>=2022.1 in c:\\users\\juanj\\appdata\\local\\programs\\python\\python310\\lib\\site-packages (from pandas) (2023.3)\n",
      "Requirement already satisfied: numpy>=1.21.0 in c:\\users\\juanj\\appdata\\local\\programs\\python\\python310\\lib\\site-packages (from pandas) (1.24.3)\n",
      "Requirement already satisfied: six>=1.5 in c:\\users\\juanj\\appdata\\roaming\\python\\python310\\site-packages (from python-dateutil>=2.8.2->pandas) (1.16.0)\n",
      "Note: you may need to restart the kernel to use updated packages.\n"
     ]
    }
   ],
   "source": [
    "pip install pandas"
   ]
  },
  {
   "cell_type": "code",
   "execution_count": 10,
   "metadata": {},
   "outputs": [],
   "source": [
    "import pandas as pd\n",
    "import numpy as np"
   ]
  },
  {
   "attachments": {},
   "cell_type": "markdown",
   "metadata": {},
   "source": [
    "se define una red neuronal con las siguientes caracteristicas\n",
    "\n",
    "-   1.- Una capa de entrada con dos inputs, x1, x2, x3 y x4\n",
    "-   2.- Una capa oculta con 4 neronas h1, h2 , h3 y h4\n",
    "-   3.-una capa de salida con 1 neurona o1"
   ]
  },
  {
   "cell_type": "code",
   "execution_count": 11,
   "metadata": {},
   "outputs": [
    {
     "name": "stdout",
     "output_type": "stream",
     "text": [
      "[[0.2  0.65 0.45 0.12]\n",
      " [0.8  0.35 0.55 0.15]]\n"
     ]
    }
   ],
   "source": [
    "#inicializamos los pesos de las 4 neronas de la capa oculta\n",
    "Wxh=np.array([[0.2,0.65,0.45,0.12],[0.8,0.35,0.55,0.15]])\n",
    "print(Wxh)\n"
   ]
  },
  {
   "cell_type": "code",
   "execution_count": 12,
   "metadata": {},
   "outputs": [
    {
     "name": "stdout",
     "output_type": "stream",
     "text": [
      "[[0.2 ]\n",
      " [0.35]\n",
      " [0.45]\n",
      " [0.52]]\n"
     ]
    }
   ],
   "source": [
    "#pesos de la neirona de la capa de salida\n",
    "\n",
    "Why=np.array([[0.2],[0.35],[0.45],[0.52]])\n",
    "print(Why)"
   ]
  },
  {
   "cell_type": "code",
   "execution_count": 16,
   "metadata": {},
   "outputs": [
    {
     "name": "stdout",
     "output_type": "stream",
     "text": [
      "[0.2  0.15 0.45 0.23]\n"
     ]
    }
   ],
   "source": [
    "#inicializamos los sesgos\n",
    "bh=np.array([0.2,0.15,0.45,0.23])\n",
    "print(bh)\n",
    "by=0.5"
   ]
  },
  {
   "cell_type": "code",
   "execution_count": 14,
   "metadata": {},
   "outputs": [],
   "source": [
    "#definimos la funcion de activacion como la sigmoide o logit\n",
    "def sigmoid(x):\n",
    "    return 1/(1+np.exp(-x))"
   ]
  },
  {
   "cell_type": "code",
   "execution_count": 15,
   "metadata": {},
   "outputs": [],
   "source": [
    "#definimos la propagacion hacia delante\n",
    "\n",
    "def forward_prop(x):\n",
    "    z1=np.dot(x,Wxh)+bh     #capa oculta -----(1x2)(2x4)=(1x4)+(1x4)\n",
    "    a1=sigmoid(z1)          #capa oculta -----(1x4)\n",
    "    z2=np.dot(a1,Why)+by    #capa salida -----(1x4)(4x1)=(1x1)\n",
    "    y_gorro=sigmoid(z2)     #capa salida -----(1x4)\n",
    "    return y_gorro"
   ]
  },
  {
   "cell_type": "code",
   "execution_count": 17,
   "metadata": {},
   "outputs": [
    {
     "data": {
      "text/plain": [
       "array([0.88288006])"
      ]
     },
     "execution_count": 17,
     "metadata": {},
     "output_type": "execute_result"
    }
   ],
   "source": [
    "x=np.array([1.75,70])\n",
    "y_gorro=forward_prop(x)\n",
    "y_gorro "
   ]
  },
  {
   "attachments": {},
   "cell_type": "markdown",
   "metadata": {},
   "source": [
    "# Backpropagation"
   ]
  },
  {
   "cell_type": "code",
   "execution_count": 24,
   "metadata": {},
   "outputs": [],
   "source": [
    "#Definir función sigmoide prima\n",
    "def sigmoidPrime(x):\n",
    "    return np.exp(-x)/((1+np.exp(-x))**2)"
   ]
  },
  {
   "cell_type": "code",
   "execution_count": 30,
   "metadata": {},
   "outputs": [],
   "source": [
    "def backword_prop(y_gorro, z1, a1, z2, alpha):\n",
    "    global Wxh, Why, y\n",
    "    delta2 = np.multiply(-(y-y_gorro), sigmoidPrime(z2))\n",
    "    dJ_dWxh = np.dot(a1.T, delta2)\n",
    "    delta1 = np.dot(delta2,Why.T)*sigmoidPrime(z1)\n",
    "    dJ_dWhy= np.dot(x.T, delta1)\n",
    "    Wxh = Wxh-alpha*dJ_dWxh\n",
    "    Why = Why-alpha*dJ_dWhy\n",
    "    return Wxh, Why"
   ]
  },
  {
   "cell_type": "code",
   "execution_count": 23,
   "metadata": {},
   "outputs": [
    {
     "name": "stdout",
     "output_type": "stream",
     "text": [
      "Collecting matplotlib\n",
      "  Downloading matplotlib-3.7.1-cp310-cp310-win_amd64.whl (7.6 MB)\n",
      "                                              0.0/7.6 MB ? eta -:--:--\n",
      "                                              0.0/7.6 MB 1.3 MB/s eta 0:00:06\n",
      "                                              0.1/7.6 MB 1.6 MB/s eta 0:00:05\n",
      "     -                                        0.2/7.6 MB 1.7 MB/s eta 0:00:05\n",
      "     -                                        0.3/7.6 MB 2.3 MB/s eta 0:00:04\n",
      "     --                                       0.5/7.6 MB 2.7 MB/s eta 0:00:03\n",
      "     -----                                    1.0/7.6 MB 4.6 MB/s eta 0:00:02\n",
      "     ------                                   1.3/7.6 MB 5.1 MB/s eta 0:00:02\n",
      "     ---------                                1.9/7.6 MB 6.7 MB/s eta 0:00:01\n",
      "     ------------                             2.4/7.6 MB 7.3 MB/s eta 0:00:01\n",
      "     ---------------                          2.9/7.6 MB 8.0 MB/s eta 0:00:01\n",
      "     ------------------                       3.5/7.6 MB 8.8 MB/s eta 0:00:01\n",
      "     ---------------------                    4.1/7.6 MB 9.2 MB/s eta 0:00:01\n",
      "     ------------------------                 4.7/7.6 MB 10.0 MB/s eta 0:00:01\n",
      "     ----------------------------             5.4/7.6 MB 10.7 MB/s eta 0:00:01\n",
      "     -------------------------------          6.0/7.6 MB 10.9 MB/s eta 0:00:01\n",
      "     ----------------------------------       6.6/7.6 MB 11.4 MB/s eta 0:00:01\n",
      "     -------------------------------------    7.2/7.6 MB 11.8 MB/s eta 0:00:01\n",
      "     ---------------------------------------  7.6/7.6 MB 11.9 MB/s eta 0:00:01\n",
      "     ---------------------------------------  7.6/7.6 MB 11.9 MB/s eta 0:00:01\n",
      "     ---------------------------------------- 7.6/7.6 MB 10.6 MB/s eta 0:00:00\n",
      "Collecting contourpy>=1.0.1 (from matplotlib)\n",
      "  Downloading contourpy-1.0.7-cp310-cp310-win_amd64.whl (162 kB)\n",
      "                                              0.0/163.0 kB ? eta -:--:--\n",
      "     -------------------------------------- 163.0/163.0 kB 9.5 MB/s eta 0:00:00\n",
      "Collecting cycler>=0.10 (from matplotlib)\n",
      "  Downloading cycler-0.11.0-py3-none-any.whl (6.4 kB)\n",
      "Collecting fonttools>=4.22.0 (from matplotlib)\n",
      "  Downloading fonttools-4.39.4-py3-none-any.whl (1.0 MB)\n",
      "                                              0.0/1.0 MB ? eta -:--:--\n",
      "     ------------------                       0.5/1.0 MB 14.4 MB/s eta 0:00:01\n",
      "     ------------------------------------     0.9/1.0 MB 14.5 MB/s eta 0:00:01\n",
      "     ---------------------------------------- 1.0/1.0 MB 10.6 MB/s eta 0:00:00\n",
      "Collecting kiwisolver>=1.0.1 (from matplotlib)\n",
      "  Downloading kiwisolver-1.4.4-cp310-cp310-win_amd64.whl (55 kB)\n",
      "                                              0.0/55.3 kB ? eta -:--:--\n",
      "     ---------------------------------------- 55.3/55.3 kB 2.8 MB/s eta 0:00:00\n",
      "Requirement already satisfied: numpy>=1.20 in c:\\users\\juanj\\appdata\\local\\programs\\python\\python310\\lib\\site-packages (from matplotlib) (1.24.3)\n",
      "Requirement already satisfied: packaging>=20.0 in c:\\users\\juanj\\appdata\\roaming\\python\\python310\\site-packages (from matplotlib) (23.1)\n",
      "Collecting pillow>=6.2.0 (from matplotlib)\n",
      "  Downloading Pillow-9.5.0-cp310-cp310-win_amd64.whl (2.5 MB)\n",
      "                                              0.0/2.5 MB ? eta -:--:--\n",
      "     --------                                 0.5/2.5 MB 16.5 MB/s eta 0:00:01\n",
      "     --------------                           0.9/2.5 MB 14.7 MB/s eta 0:00:01\n",
      "     -----------------                        1.1/2.5 MB 10.0 MB/s eta 0:00:01\n",
      "     --------------------------               1.7/2.5 MB 11.8 MB/s eta 0:00:01\n",
      "     -----------------------------            1.8/2.5 MB 10.5 MB/s eta 0:00:01\n",
      "     ---------------------------------------  2.5/2.5 MB 12.3 MB/s eta 0:00:01\n",
      "     ---------------------------------------  2.5/2.5 MB 12.3 MB/s eta 0:00:01\n",
      "     ---------------------------------------- 2.5/2.5 MB 8.9 MB/s eta 0:00:00\n",
      "Collecting pyparsing>=2.3.1 (from matplotlib)\n",
      "  Downloading pyparsing-3.0.9-py3-none-any.whl (98 kB)\n",
      "                                              0.0/98.3 kB ? eta -:--:--\n",
      "     -------------------------------------    92.2/98.3 kB 5.5 MB/s eta 0:00:01\n",
      "     ---------------------------------------- 98.3/98.3 kB 1.4 MB/s eta 0:00:00\n",
      "Requirement already satisfied: python-dateutil>=2.7 in c:\\users\\juanj\\appdata\\roaming\\python\\python310\\site-packages (from matplotlib) (2.8.2)\n",
      "Requirement already satisfied: six>=1.5 in c:\\users\\juanj\\appdata\\roaming\\python\\python310\\site-packages (from python-dateutil>=2.7->matplotlib) (1.16.0)\n",
      "Installing collected packages: pyparsing, pillow, kiwisolver, fonttools, cycler, contourpy, matplotlib\n",
      "Successfully installed contourpy-1.0.7 cycler-0.11.0 fonttools-4.39.4 kiwisolver-1.4.4 matplotlib-3.7.1 pillow-9.5.0 pyparsing-3.0.9\n",
      "Note: you may need to restart the kernel to use updated packages.\n"
     ]
    },
    {
     "name": "stderr",
     "output_type": "stream",
     "text": [
      "  WARNING: The scripts fonttools.exe, pyftmerge.exe, pyftsubset.exe and ttx.exe are installed in 'c:\\Users\\juanj\\AppData\\Local\\Programs\\Python\\Python310\\Scripts' which is not on PATH.\n",
      "  Consider adding this directory to PATH or, if you prefer to suppress this warning, use --no-warn-script-location.\n"
     ]
    }
   ],
   "source": [
    "pip install matplotlib"
   ]
  },
  {
   "cell_type": "code",
   "execution_count": 29,
   "metadata": {},
   "outputs": [
    {
     "name": "stdout",
     "output_type": "stream",
     "text": [
      "[[0.2  0.65 0.45 0.34]\n",
      " [0.8  0.35 0.55 0.21]]\n",
      "[[0.15]\n",
      " [0.3 ]\n",
      " [0.45]\n",
      " [0.1 ]]\n",
      "[[0.2  0.15 0.45 0.1 ]]\n"
     ]
    },
    {
     "ename": "ValueError",
     "evalue": "shapes (2,) and (1,4) not aligned: 2 (dim 0) != 1 (dim 0)",
     "output_type": "error",
     "traceback": [
      "\u001b[1;31m---------------------------------------------------------------------------\u001b[0m",
      "\u001b[1;31mValueError\u001b[0m                                Traceback (most recent call last)",
      "Cell \u001b[1;32mIn[29], line 64\u001b[0m\n\u001b[0;32m     61\u001b[0m z2 \u001b[39m=\u001b[39m np\u001b[39m.\u001b[39mdot(a1,Why) \u001b[39m+\u001b[39m by\n\u001b[0;32m     62\u001b[0m alpha\u001b[39m=\u001b[39m\u001b[39m0.025\u001b[39m\n\u001b[1;32m---> 64\u001b[0m backword_prop(y_hat, z1, a1, z2,alpha)\n\u001b[0;32m     67\u001b[0m \u001b[39m#Definir fución de predicción.\u001b[39;00m\n\u001b[0;32m     69\u001b[0m \u001b[39mdef\u001b[39;00m \u001b[39mpred\u001b[39m(X):\n",
      "Cell \u001b[1;32mIn[29], line 51\u001b[0m, in \u001b[0;36mbackword_prop\u001b[1;34m(y_hat, z1, a1, z2, alpha)\u001b[0m\n\u001b[0;32m     49\u001b[0m dJ_dWhy \u001b[39m=\u001b[39m np\u001b[39m.\u001b[39mdot(a1\u001b[39m.\u001b[39mT, delta2)\n\u001b[0;32m     50\u001b[0m delta1 \u001b[39m=\u001b[39m np\u001b[39m.\u001b[39mdot(delta2,Why\u001b[39m.\u001b[39mT)\u001b[39m*\u001b[39msigmoidPrime(z1)\n\u001b[1;32m---> 51\u001b[0m dJ_dWxh \u001b[39m=\u001b[39m np\u001b[39m.\u001b[39;49mdot(X\u001b[39m.\u001b[39;49mT, delta1)\n\u001b[0;32m     52\u001b[0m Wxh \u001b[39m=\u001b[39m Wxh \u001b[39m-\u001b[39m alpha \u001b[39m*\u001b[39m dJ_dWxh\n\u001b[0;32m     53\u001b[0m Why \u001b[39m=\u001b[39m Why \u001b[39m-\u001b[39m alpha \u001b[39m*\u001b[39m dJ_dWhy\n",
      "File \u001b[1;32m<__array_function__ internals>:200\u001b[0m, in \u001b[0;36mdot\u001b[1;34m(*args, **kwargs)\u001b[0m\n",
      "\u001b[1;31mValueError\u001b[0m: shapes (2,) and (1,4) not aligned: 2 (dim 0) != 1 (dim 0)"
     ]
    }
   ],
   "source": [
    "import pandas as pd\n",
    "import numpy as np\n",
    "import matplotlib.pyplot as plt\n",
    "\n",
    "X=x\n",
    "y=1\n",
    "#Definir función sigmoide\n",
    "def sigmoid(x):\n",
    " return 1/ (1+np.exp(-x))\n",
    "\n",
    "#Inicializar los pesos de las 3 neuronas de la capa oculta.\n",
    "\n",
    "Wxh=np.array([[0.2,0.65,0.45,0.34],\n",
    "             [0.8,0.35,0.55,0.21]])\n",
    "print(Wxh)\n",
    "\n",
    "\n",
    "#Inicializar pesos en la neurona de salida.\n",
    "\n",
    "Why=np.array([[0.15],\n",
    "             [0.3],\n",
    "             [0.45],\n",
    "             [0.1]])\n",
    "print(Why)\n",
    "\n",
    "\n",
    "#Inicializar sesgo de las neuronas en la capa oculta.\n",
    "\n",
    "bh=np.array([[0.2,0.15,0.45,0.1]])\n",
    "\n",
    "print(bh)\n",
    "\n",
    "\n",
    "#Definir la forward propagation.\n",
    "\n",
    "def forward_prop(X):\n",
    " z1 = np.dot(X,Wxh) + bh\n",
    " a1 = sigmoid(z1)\n",
    " z2 = np.dot(a1,Why) + by\n",
    " y_hat = sigmoid(z2)\n",
    " return y_hat\n",
    "\n",
    "\n",
    "#Definir la back propagation.\n",
    "\n",
    "def backword_prop(y_hat, z1, a1, z2,alpha):\n",
    " global Wxh, Why\n",
    " delta2 = np.multiply(-(y-y_hat),sigmoidPrime(z2))\n",
    " dJ_dWhy = np.dot(a1.T, delta2)\n",
    " delta1 = np.dot(delta2,Why.T)*sigmoidPrime(z1)\n",
    " dJ_dWxh = np.dot(X.T, delta1)\n",
    " Wxh = Wxh - alpha * dJ_dWxh\n",
    " Why = Why - alpha * dJ_dWhy\n",
    " return Wxh,Why\n",
    "\n",
    "\n",
    "#Reecalcular parámetros\n",
    "y_hat=forward_prop(X)\n",
    "z1 = np.dot(X,Wxh) + bh\n",
    "a1 = sigmoid(z1)\n",
    "z2 = np.dot(a1,Why) + by\n",
    "alpha=0.025\n",
    "\n",
    "backword_prop(y_hat, z1, a1, z2,alpha)\n",
    "\n",
    "\n",
    "#Definir fución de predicción.\n",
    "\n",
    "def pred(X):\n",
    " z1 = np.dot(X,Wxh) + bh\n",
    " a1 = sigmoid(z1)\n",
    " z2 = np.dot(a1,Why) + by\n",
    " y_hat = sigmoid(z2)\n",
    " return y_hat"
   ]
  },
  {
   "cell_type": "code",
   "execution_count": null,
   "metadata": {},
   "outputs": [],
   "source": []
  }
 ],
 "metadata": {
  "kernelspec": {
   "display_name": "Python 3",
   "language": "python",
   "name": "python3"
  },
  "language_info": {
   "codemirror_mode": {
    "name": "ipython",
    "version": 3
   },
   "file_extension": ".py",
   "mimetype": "text/x-python",
   "name": "python",
   "nbconvert_exporter": "python",
   "pygments_lexer": "ipython3",
   "version": "3.10.10"
  },
  "orig_nbformat": 4
 },
 "nbformat": 4,
 "nbformat_minor": 2
}
