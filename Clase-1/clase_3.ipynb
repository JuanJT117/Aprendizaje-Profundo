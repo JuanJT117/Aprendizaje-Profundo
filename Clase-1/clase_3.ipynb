{
 "cells": [
  {
   "attachments": {},
   "cell_type": "markdown",
   "metadata": {},
   "source": [
    "# A) ForwardPropagation (Propagacion hacia delante)"
   ]
  },
  {
   "attachments": {},
   "cell_type": "markdown",
   "metadata": {},
   "source": [
    "En este erjercicio generaremos una propagacion hacia delante y posteriormente \n",
    "una propagacion hacia atras dentro de lamisma red de neuronas que se definira \n",
    "<!-- a continuacion. -->"
   ]
  },
  {
   "attachments": {},
   "cell_type": "markdown",
   "metadata": {},
   "source": [
    "Como paso preliminar preparamos el entorno donde trabajaremos\n",
    "\n",
    "-   Instalamos las libreras que nos falten, en este caso faltaba por instalar PANDAS.\n",
    "-   Importamos las librerias que usaremos."
   ]
  },
  {
   "cell_type": "code",
   "execution_count": 60,
   "metadata": {},
   "outputs": [],
   "source": [
    "#pip install pandas\n",
    "#pip install matplotlib"
   ]
  },
  {
   "cell_type": "code",
   "execution_count": 61,
   "metadata": {},
   "outputs": [],
   "source": [
    "import pandas as pd \n",
    "import numpy as np\n",
    "import matplotlib.pyplot as plt  #para el BackPropagation\n"
   ]
  },
  {
   "attachments": {},
   "cell_type": "markdown",
   "metadata": {},
   "source": [
    "1.- Se define una red neuronal con las siguientes caracteristicas\n",
    "\n",
    "-   1.- Una capa de entrada con dos inputs, x1 y x2.\n",
    "-   2.- Una capa oculta con 4 neronas h1, h2 , h3 y h4.\n",
    "-   3.-una capa de salida con 1 neurona o1."
   ]
  },
  {
   "attachments": {},
   "cell_type": "markdown",
   "metadata": {},
   "source": [
    "2.- Inicializamos los pesos de las 4 neuronas de la capa oculta y los visualisamos"
   ]
  },
  {
   "cell_type": "code",
   "execution_count": 62,
   "metadata": {},
   "outputs": [
    {
     "name": "stdout",
     "output_type": "stream",
     "text": [
      "[[0.2  0.65 0.45 0.12]\n",
      " [0.8  0.35 0.55 0.15]]\n"
     ]
    }
   ],
   "source": [
    "Wxh=np.array([[0.2,0.65,0.45,0.12],[0.8,0.35,0.55,0.15]]) # X1 [1x4] y X2 [1x4]\n",
    "print(Wxh)"
   ]
  },
  {
   "attachments": {},
   "cell_type": "markdown",
   "metadata": {},
   "source": [
    "3.- Inicializamos los pesos de las neuronas de la capa de salida "
   ]
  },
  {
   "cell_type": "code",
   "execution_count": 63,
   "metadata": {},
   "outputs": [
    {
     "name": "stdout",
     "output_type": "stream",
     "text": [
      "[[0.2 ]\n",
      " [0.35]\n",
      " [0.45]\n",
      " [0.52]]\n"
     ]
    }
   ],
   "source": [
    "#pesos de la neirona de la capa de salida\n",
    "\n",
    "Why=np.array([[0.2],[0.35],[0.45],[0.52]]) #Xo1 [4x1]\n",
    "print(Why)"
   ]
  },
  {
   "attachments": {},
   "cell_type": "markdown",
   "metadata": {},
   "source": [
    "4.- Inicializamos los sesgos de la neuronas de la capa oculta Z1 y de la capa de salida Z2"
   ]
  },
  {
   "cell_type": "code",
   "execution_count": 64,
   "metadata": {},
   "outputs": [
    {
     "name": "stdout",
     "output_type": "stream",
     "text": [
      "[0.2  0.15 0.45 0.23]\n",
      "0.5\n"
     ]
    }
   ],
   "source": [
    "bh=np.array([0.2,0.15,0.45,0.23]) #bh [1x4]\n",
    "print(bh)\n",
    "by=0.5 #by [1x4]\n",
    "print(by)"
   ]
  },
  {
   "attachments": {},
   "cell_type": "markdown",
   "metadata": {},
   "source": [
    "5.- Definimos la funcion de activacion como la sigmoide o logistic (logit)"
   ]
  },
  {
   "cell_type": "code",
   "execution_count": 65,
   "metadata": {},
   "outputs": [],
   "source": [
    "def sigmoid(x):\n",
    "    return 1/(1+np.exp(-x))"
   ]
  },
  {
   "attachments": {},
   "cell_type": "markdown",
   "metadata": {},
   "source": [
    "6.- Definimos la propagacion hacia delante"
   ]
  },
  {
   "cell_type": "code",
   "execution_count": 66,
   "metadata": {},
   "outputs": [],
   "source": [
    "def forward_prop(x):\n",
    "    z1=np.dot(x,Wxh)+bh     #capa oculta -----(1x2)(2x4)=(1x4)+(1x4)\n",
    "    a1=sigmoid(z1)          #capa oculta -----(1x4)\n",
    "    z2=np.dot(a1,Why)+by    #capa salida -----(1x4)(4x1)=(1x1)\n",
    "    y_gorro=sigmoid(z2)     #capa salida -----(1x4)\n",
    "    return y_gorro"
   ]
  },
  {
   "attachments": {},
   "cell_type": "markdown",
   "metadata": {},
   "source": [
    "7.- Definimos el vector de impulso para estimar y_Gorro "
   ]
  },
  {
   "cell_type": "code",
   "execution_count": 67,
   "metadata": {},
   "outputs": [
    {
     "data": {
      "text/plain": [
       "array([0.88288006])"
      ]
     },
     "execution_count": 67,
     "metadata": {},
     "output_type": "execute_result"
    }
   ],
   "source": [
    "x=np.array([1.75,70])\n",
    "y_gorro=forward_prop(x)\n",
    "y_gorro "
   ]
  },
  {
   "attachments": {},
   "cell_type": "markdown",
   "metadata": {},
   "source": [
    "# B) Backpropagation (propagacion hacia atras)"
   ]
  },
  {
   "attachments": {},
   "cell_type": "markdown",
   "metadata": {},
   "source": [
    "1.- Definicion de la derivada de la sigmoide Prima"
   ]
  },
  {
   "cell_type": "code",
   "execution_count": 68,
   "metadata": {},
   "outputs": [],
   "source": [
    "def sigmoidPrime(x):\n",
    "    return np.exp(-x)/((1+np.exp(-x))**2)"
   ]
  },
  {
   "attachments": {},
   "cell_type": "markdown",
   "metadata": {},
   "source": [
    "2.- Preparamos la BackPropagation"
   ]
  },
  {
   "cell_type": "code",
   "execution_count": 69,
   "metadata": {},
   "outputs": [],
   "source": [
    "def backword_prop(y_gorro, z1, a1, z2, alpha):\n",
    "    global Wxh, Why, y, dJ_dWxh\n",
    "    delta2 = np.multiply(-(y-y_gorro), sigmoidPrime(z2))  # --> 1x1 X 1x1 = 1x1\n",
    "    dJ_dWxh = np.dot(a1.reshape(4,1), delta2) # --> 4x1.T * 1x1 = 4x1\n",
    "    delta1 = np.dot(delta2,Why.T)*sigmoidPrime(z1)  # --> 1x1 * 1x4.T * 1 = 1x4\n",
    "    dJ_dWhy = np.dot(X.reshape(2,1), delta1.reshape(1,4))  # --> 2x1 * 1x4 =2x4\n",
    "    Wxh = Wxh-alpha*dJ_dWxh # -->4x1 -alpha * 4x1\n",
    "    Why = Why - alpha * dJ_dWhy.T  #4x1-alpha *  1x8.T = \n",
    "    return Wxh, Why"
   ]
  },
  {
   "attachments": {},
   "cell_type": "markdown",
   "metadata": {},
   "source": [
    "3.- Recalculo de parametros empleando BackPropagation"
   ]
  },
  {
   "cell_type": "code",
   "execution_count": 70,
   "metadata": {},
   "outputs": [],
   "source": [
    "X = np.array([1.9,63.8])\n",
    "y_gorro=forward_prop(x)\n",
    "z1 = np.dot(X,Wxh) + bh\n",
    "a1 = sigmoid(z1)\n",
    "z2 = np.dot(a1,Why) + by\n",
    "alpha=0.025\n",
    "y = 0.56"
   ]
  },
  {
   "cell_type": "code",
   "execution_count": 71,
   "metadata": {},
   "outputs": [
    {
     "data": {
      "text/plain": [
       "(array([[0.19916532, 0.64916532, 0.44916532, 0.11916536],\n",
       "        [0.79916532, 0.34916532, 0.54916532, 0.14916536]]),\n",
       " array([[0.2       , 0.2       ],\n",
       "        [0.35      , 0.35      ],\n",
       "        [0.45      , 0.45      ],\n",
       "        [0.51999996, 0.51999878]]))"
      ]
     },
     "execution_count": 71,
     "metadata": {},
     "output_type": "execute_result"
    }
   ],
   "source": [
    "backword_prop(y_gorro, z1, a1, z2,alpha)"
   ]
  },
  {
   "cell_type": "code",
   "execution_count": 72,
   "metadata": {},
   "outputs": [],
   "source": [
    "\n",
    "#Definir fución de predicción.\n",
    "\n",
    "def pred(X):\n",
    " z1 = np.dot(X,Wxh) + bh\n",
    " a1 = sigmoid(z1)\n",
    " z2 = np.dot(a1,Why) + by\n",
    " y_hat = sigmoid(z2)\n",
    " return y_hat"
   ]
  },
  {
   "cell_type": "code",
   "execution_count": 73,
   "metadata": {},
   "outputs": [
    {
     "name": "stdout",
     "output_type": "stream",
     "text": [
      "\f\n"
     ]
    }
   ],
   "source": [
    "clear all"
   ]
  }
 ],
 "metadata": {
  "kernelspec": {
   "display_name": "Python 3",
   "language": "python",
   "name": "python3"
  },
  "language_info": {
   "codemirror_mode": {
    "name": "ipython",
    "version": 3
   },
   "file_extension": ".py",
   "mimetype": "text/x-python",
   "name": "python",
   "nbconvert_exporter": "python",
   "pygments_lexer": "ipython3",
   "version": "3.10.10"
  },
  "orig_nbformat": 4
 },
 "nbformat": 4,
 "nbformat_minor": 2
}
