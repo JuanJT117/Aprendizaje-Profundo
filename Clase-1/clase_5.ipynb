{
 "cells": [
  {
   "cell_type": "code",
   "execution_count": 23,
   "metadata": {},
   "outputs": [],
   "source": [
    "import numpy as np\n",
    "import pandas as pd"
   ]
  },
  {
   "attachments": {},
   "cell_type": "markdown",
   "metadata": {},
   "source": [
    "## 1.- inportamos los datos"
   ]
  },
  {
   "cell_type": "code",
   "execution_count": 24,
   "metadata": {},
   "outputs": [],
   "source": [
    "BaseAumentada = pd.read_csv(\"BaseLD.csv\", header=0, sep=\",\")"
   ]
  },
  {
   "cell_type": "code",
   "execution_count": 40,
   "metadata": {},
   "outputs": [
    {
     "data": {
      "text/html": [
       "<div>\n",
       "<style scoped>\n",
       "    .dataframe tbody tr th:only-of-type {\n",
       "        vertical-align: middle;\n",
       "    }\n",
       "\n",
       "    .dataframe tbody tr th {\n",
       "        vertical-align: top;\n",
       "    }\n",
       "\n",
       "    .dataframe thead th {\n",
       "        text-align: right;\n",
       "    }\n",
       "</style>\n",
       "<table border=\"1\" class=\"dataframe\">\n",
       "  <thead>\n",
       "    <tr style=\"text-align: right;\">\n",
       "      <th></th>\n",
       "      <th>SegmentR</th>\n",
       "      <th>PEPR</th>\n",
       "      <th>AgeR</th>\n",
       "      <th>TimeRelationR</th>\n",
       "      <th>IncomeSourceR</th>\n",
       "      <th>ActivityR</th>\n",
       "      <th>NationalityR</th>\n",
       "      <th>CommonAddR</th>\n",
       "      <th>ProductTR</th>\n",
       "      <th>SubproductR</th>\n",
       "      <th>...</th>\n",
       "      <th>SumReR</th>\n",
       "      <th>RSR</th>\n",
       "      <th>AAR</th>\n",
       "      <th>SendingNumR</th>\n",
       "      <th>ReceivingNumR</th>\n",
       "      <th>StateOpeR</th>\n",
       "      <th>StateResR</th>\n",
       "      <th>MunOpeR</th>\n",
       "      <th>MunResR</th>\n",
       "      <th>CountryR</th>\n",
       "    </tr>\n",
       "  </thead>\n",
       "  <tbody>\n",
       "    <tr>\n",
       "      <th>0</th>\n",
       "      <td>80</td>\n",
       "      <td>100</td>\n",
       "      <td>96</td>\n",
       "      <td>100</td>\n",
       "      <td>100</td>\n",
       "      <td>97</td>\n",
       "      <td>96</td>\n",
       "      <td>72</td>\n",
       "      <td>98</td>\n",
       "      <td>77</td>\n",
       "      <td>...</td>\n",
       "      <td>64</td>\n",
       "      <td>66</td>\n",
       "      <td>72</td>\n",
       "      <td>80</td>\n",
       "      <td>78</td>\n",
       "      <td>91</td>\n",
       "      <td>79</td>\n",
       "      <td>97</td>\n",
       "      <td>89</td>\n",
       "      <td>99</td>\n",
       "    </tr>\n",
       "    <tr>\n",
       "      <th>1</th>\n",
       "      <td>96</td>\n",
       "      <td>96</td>\n",
       "      <td>97</td>\n",
       "      <td>98</td>\n",
       "      <td>99</td>\n",
       "      <td>96</td>\n",
       "      <td>96</td>\n",
       "      <td>69</td>\n",
       "      <td>97</td>\n",
       "      <td>77</td>\n",
       "      <td>...</td>\n",
       "      <td>83</td>\n",
       "      <td>84</td>\n",
       "      <td>71</td>\n",
       "      <td>81</td>\n",
       "      <td>78</td>\n",
       "      <td>92</td>\n",
       "      <td>81</td>\n",
       "      <td>99</td>\n",
       "      <td>90</td>\n",
       "      <td>100</td>\n",
       "    </tr>\n",
       "    <tr>\n",
       "      <th>2</th>\n",
       "      <td>81</td>\n",
       "      <td>98</td>\n",
       "      <td>99</td>\n",
       "      <td>99</td>\n",
       "      <td>99</td>\n",
       "      <td>98</td>\n",
       "      <td>97</td>\n",
       "      <td>68</td>\n",
       "      <td>96</td>\n",
       "      <td>98</td>\n",
       "      <td>...</td>\n",
       "      <td>84</td>\n",
       "      <td>64</td>\n",
       "      <td>89</td>\n",
       "      <td>82</td>\n",
       "      <td>82</td>\n",
       "      <td>90</td>\n",
       "      <td>82</td>\n",
       "      <td>99</td>\n",
       "      <td>92</td>\n",
       "      <td>96</td>\n",
       "    </tr>\n",
       "    <tr>\n",
       "      <th>3</th>\n",
       "      <td>96</td>\n",
       "      <td>99</td>\n",
       "      <td>99</td>\n",
       "      <td>100</td>\n",
       "      <td>96</td>\n",
       "      <td>99</td>\n",
       "      <td>99</td>\n",
       "      <td>68</td>\n",
       "      <td>98</td>\n",
       "      <td>99</td>\n",
       "      <td>...</td>\n",
       "      <td>84</td>\n",
       "      <td>84</td>\n",
       "      <td>88</td>\n",
       "      <td>81</td>\n",
       "      <td>80</td>\n",
       "      <td>91</td>\n",
       "      <td>82</td>\n",
       "      <td>96</td>\n",
       "      <td>89</td>\n",
       "      <td>96</td>\n",
       "    </tr>\n",
       "    <tr>\n",
       "      <th>4</th>\n",
       "      <td>82</td>\n",
       "      <td>99</td>\n",
       "      <td>98</td>\n",
       "      <td>98</td>\n",
       "      <td>97</td>\n",
       "      <td>100</td>\n",
       "      <td>97</td>\n",
       "      <td>68</td>\n",
       "      <td>100</td>\n",
       "      <td>96</td>\n",
       "      <td>...</td>\n",
       "      <td>66</td>\n",
       "      <td>84</td>\n",
       "      <td>68</td>\n",
       "      <td>80</td>\n",
       "      <td>82</td>\n",
       "      <td>89</td>\n",
       "      <td>82</td>\n",
       "      <td>97</td>\n",
       "      <td>89</td>\n",
       "      <td>97</td>\n",
       "    </tr>\n",
       "    <tr>\n",
       "      <th>...</th>\n",
       "      <td>...</td>\n",
       "      <td>...</td>\n",
       "      <td>...</td>\n",
       "      <td>...</td>\n",
       "      <td>...</td>\n",
       "      <td>...</td>\n",
       "      <td>...</td>\n",
       "      <td>...</td>\n",
       "      <td>...</td>\n",
       "      <td>...</td>\n",
       "      <td>...</td>\n",
       "      <td>...</td>\n",
       "      <td>...</td>\n",
       "      <td>...</td>\n",
       "      <td>...</td>\n",
       "      <td>...</td>\n",
       "      <td>...</td>\n",
       "      <td>...</td>\n",
       "      <td>...</td>\n",
       "      <td>...</td>\n",
       "      <td>...</td>\n",
       "    </tr>\n",
       "    <tr>\n",
       "      <th>27746</th>\n",
       "      <td>19</td>\n",
       "      <td>12</td>\n",
       "      <td>32</td>\n",
       "      <td>19</td>\n",
       "      <td>27</td>\n",
       "      <td>19</td>\n",
       "      <td>11</td>\n",
       "      <td>11</td>\n",
       "      <td>26</td>\n",
       "      <td>8</td>\n",
       "      <td>...</td>\n",
       "      <td>25</td>\n",
       "      <td>23</td>\n",
       "      <td>29</td>\n",
       "      <td>4</td>\n",
       "      <td>6</td>\n",
       "      <td>19</td>\n",
       "      <td>19</td>\n",
       "      <td>17</td>\n",
       "      <td>4</td>\n",
       "      <td>10</td>\n",
       "    </tr>\n",
       "    <tr>\n",
       "      <th>27747</th>\n",
       "      <td>20</td>\n",
       "      <td>9</td>\n",
       "      <td>32</td>\n",
       "      <td>18</td>\n",
       "      <td>25</td>\n",
       "      <td>19</td>\n",
       "      <td>10</td>\n",
       "      <td>10</td>\n",
       "      <td>27</td>\n",
       "      <td>12</td>\n",
       "      <td>...</td>\n",
       "      <td>26</td>\n",
       "      <td>27</td>\n",
       "      <td>12</td>\n",
       "      <td>21</td>\n",
       "      <td>20</td>\n",
       "      <td>18</td>\n",
       "      <td>22</td>\n",
       "      <td>16</td>\n",
       "      <td>5</td>\n",
       "      <td>9</td>\n",
       "    </tr>\n",
       "    <tr>\n",
       "      <th>27748</th>\n",
       "      <td>22</td>\n",
       "      <td>10</td>\n",
       "      <td>34</td>\n",
       "      <td>21</td>\n",
       "      <td>26</td>\n",
       "      <td>19</td>\n",
       "      <td>8</td>\n",
       "      <td>10</td>\n",
       "      <td>26</td>\n",
       "      <td>3</td>\n",
       "      <td>...</td>\n",
       "      <td>24</td>\n",
       "      <td>5</td>\n",
       "      <td>28</td>\n",
       "      <td>18</td>\n",
       "      <td>6</td>\n",
       "      <td>29</td>\n",
       "      <td>20</td>\n",
       "      <td>15</td>\n",
       "      <td>7</td>\n",
       "      <td>8</td>\n",
       "    </tr>\n",
       "    <tr>\n",
       "      <th>27749</th>\n",
       "      <td>20</td>\n",
       "      <td>12</td>\n",
       "      <td>33</td>\n",
       "      <td>20</td>\n",
       "      <td>24</td>\n",
       "      <td>22</td>\n",
       "      <td>9</td>\n",
       "      <td>11</td>\n",
       "      <td>23</td>\n",
       "      <td>6</td>\n",
       "      <td>...</td>\n",
       "      <td>24</td>\n",
       "      <td>27</td>\n",
       "      <td>12</td>\n",
       "      <td>20</td>\n",
       "      <td>18</td>\n",
       "      <td>28</td>\n",
       "      <td>9</td>\n",
       "      <td>14</td>\n",
       "      <td>5</td>\n",
       "      <td>12</td>\n",
       "    </tr>\n",
       "    <tr>\n",
       "      <th>27750</th>\n",
       "      <td>20</td>\n",
       "      <td>11</td>\n",
       "      <td>34</td>\n",
       "      <td>21</td>\n",
       "      <td>26</td>\n",
       "      <td>19</td>\n",
       "      <td>9</td>\n",
       "      <td>8</td>\n",
       "      <td>27</td>\n",
       "      <td>11</td>\n",
       "      <td>...</td>\n",
       "      <td>3</td>\n",
       "      <td>27</td>\n",
       "      <td>8</td>\n",
       "      <td>5</td>\n",
       "      <td>21</td>\n",
       "      <td>22</td>\n",
       "      <td>18</td>\n",
       "      <td>16</td>\n",
       "      <td>7</td>\n",
       "      <td>8</td>\n",
       "    </tr>\n",
       "  </tbody>\n",
       "</table>\n",
       "<p>27751 rows × 30 columns</p>\n",
       "</div>"
      ],
      "text/plain": [
       "       SegmentR  PEPR  AgeR  TimeRelationR  IncomeSourceR  ActivityR   \n",
       "0            80   100    96            100            100         97  \\\n",
       "1            96    96    97             98             99         96   \n",
       "2            81    98    99             99             99         98   \n",
       "3            96    99    99            100             96         99   \n",
       "4            82    99    98             98             97        100   \n",
       "...         ...   ...   ...            ...            ...        ...   \n",
       "27746        19    12    32             19             27         19   \n",
       "27747        20     9    32             18             25         19   \n",
       "27748        22    10    34             21             26         19   \n",
       "27749        20    12    33             20             24         22   \n",
       "27750        20    11    34             21             26         19   \n",
       "\n",
       "       NationalityR  CommonAddR  ProductTR  SubproductR  ...  SumReR  RSR   \n",
       "0                96          72         98           77  ...      64   66  \\\n",
       "1                96          69         97           77  ...      83   84   \n",
       "2                97          68         96           98  ...      84   64   \n",
       "3                99          68         98           99  ...      84   84   \n",
       "4                97          68        100           96  ...      66   84   \n",
       "...             ...         ...        ...          ...  ...     ...  ...   \n",
       "27746            11          11         26            8  ...      25   23   \n",
       "27747            10          10         27           12  ...      26   27   \n",
       "27748             8          10         26            3  ...      24    5   \n",
       "27749             9          11         23            6  ...      24   27   \n",
       "27750             9           8         27           11  ...       3   27   \n",
       "\n",
       "       AAR  SendingNumR  ReceivingNumR  StateOpeR  StateResR  MunOpeR   \n",
       "0       72           80             78         91         79       97  \\\n",
       "1       71           81             78         92         81       99   \n",
       "2       89           82             82         90         82       99   \n",
       "3       88           81             80         91         82       96   \n",
       "4       68           80             82         89         82       97   \n",
       "...    ...          ...            ...        ...        ...      ...   \n",
       "27746   29            4              6         19         19       17   \n",
       "27747   12           21             20         18         22       16   \n",
       "27748   28           18              6         29         20       15   \n",
       "27749   12           20             18         28          9       14   \n",
       "27750    8            5             21         22         18       16   \n",
       "\n",
       "       MunResR  CountryR  \n",
       "0           89        99  \n",
       "1           90       100  \n",
       "2           92        96  \n",
       "3           89        96  \n",
       "4           89        97  \n",
       "...        ...       ...  \n",
       "27746        4        10  \n",
       "27747        5         9  \n",
       "27748        7         8  \n",
       "27749        5        12  \n",
       "27750        7         8  \n",
       "\n",
       "[27751 rows x 30 columns]"
      ]
     },
     "execution_count": 40,
     "metadata": {},
     "output_type": "execute_result"
    }
   ],
   "source": [
    "BaseAumentada"
   ]
  },
  {
   "attachments": {},
   "cell_type": "markdown",
   "metadata": {},
   "source": [
    "## 2.- Algoritmo"
   ]
  },
  {
   "cell_type": "code",
   "execution_count": 25,
   "metadata": {},
   "outputs": [],
   "source": [
    "\n",
    "pertenencia=np.zeros((27751, 1))\n",
    "\n",
    "m=BaseAumentada.shape[0]\n",
    "n =BaseAumentada.shape[1]\n",
    "colnames = BaseAumentada.columns\n",
    "neuronas =np.zeros((3, n))\n",
    "promedio =np.zeros((1, n))\n",
    "minimo =np.zeros((1, n))\n",
    "maximo =np.zeros((1, n))"
   ]
  },
  {
   "cell_type": "code",
   "execution_count": 26,
   "metadata": {},
   "outputs": [
    {
     "data": {
      "text/plain": [
       "array([[0., 0., 0., 0., 0., 0., 0., 0., 0., 0., 0., 0., 0., 0., 0., 0.,\n",
       "        0., 0., 0., 0., 0., 0., 0., 0., 0., 0., 0., 0., 0., 0.]])"
      ]
     },
     "execution_count": 26,
     "metadata": {},
     "output_type": "execute_result"
    }
   ],
   "source": [
    "maximo"
   ]
  },
  {
   "attachments": {},
   "cell_type": "markdown",
   "metadata": {},
   "source": [
    "## 3.- Inicializacion de ubicaciones"
   ]
  },
  {
   "cell_type": "code",
   "execution_count": 27,
   "metadata": {},
   "outputs": [],
   "source": [
    "\n",
    "for i in range(n):\n",
    "    minimo[0, i] = BaseAumentada.iloc[:, i].min()\n",
    "\n",
    "for i in range(n):\n",
    "    maximo[0, i] = BaseAumentada.iloc[:, i].max()\n",
    "\n",
    "for i in range(n):\n",
    "    promedio[0, i] = BaseAumentada.iloc[:, i].mean()\n",
    "\n",
    "neuronas[0, :] = minimo[0, :]\n",
    "neuronas[1, :] = promedio[0, :]\n",
    "neuronas[2, :] = maximo[0, :]"
   ]
  },
  {
   "attachments": {},
   "cell_type": "markdown",
   "metadata": {},
   "source": [
    "## 4.- Synaptic potencial"
   ]
  },
  {
   "cell_type": "code",
   "execution_count": 28,
   "metadata": {},
   "outputs": [],
   "source": [
    "\n",
    "h = np.zeros((1, 3))\n",
    "base = BaseAumentada.to_numpy()"
   ]
  },
  {
   "attachments": {},
   "cell_type": "markdown",
   "metadata": {},
   "source": [
    "## 5.- Cluster"
   ]
  },
  {
   "cell_type": "code",
   "execution_count": 29,
   "metadata": {},
   "outputs": [],
   "source": [
    "\n",
    "for k in range(3):\n",
    "    cluster = np.zeros((1, 3))\n",
    "    for i in range(m):\n",
    "        for j in range(3):\n",
    "            h[:, j] = base[i, :].dot(neuronas[j, :]) - 0.5 * (neuronas[j, :].dot(neuronas[j, :]))\n",
    "        un = 0.5 * (1 - i / m)\n",
    "        max_h = max(h[:, 0], h[:, 1], h[:, 2])\n",
    "        if h[:, 0] == max_h:\n",
    "            neuronas[0, :] += un * (base[i, :] - neuronas[0, :])\n",
    "            cluster[:, 0] += 1\n",
    "            pertenencia[i] = 1\n",
    "        if h[:, 1] == max_h:\n",
    "            neuronas[1, :] += un * (base[i, :] - neuronas[1, :])\n",
    "            cluster[:, 1] += 1\n",
    "            pertenencia[i] = 2\n",
    "        if h[:, 2] == max_h:\n",
    "            neuronas[2, :] += un * (base[i, :] - neuronas[2, :])\n",
    "            cluster[:, 2] += 1\n",
    "            pertenencia[i] = 3\n",
    "    k += 1"
   ]
  },
  {
   "cell_type": "code",
   "execution_count": 30,
   "metadata": {},
   "outputs": [
    {
     "data": {
      "text/plain": [
       "array([[44.30039262, 10.03970647, 45.66173073, 35.96714233, 44.07835104,\n",
       "        35.15987177, 10.04094374,  9.8971198 , 24.94352227, 32.43604532,\n",
       "         4.07015728, 51.58543971, 34.39679459, 31.21704237, 46.7470065 ,\n",
       "        10.10452368, 14.75724206, 31.35505115, 30.49590065, 15.16731852,\n",
       "        14.45993839, 14.67827544, 20.73936654, 12.64209121, 11.62726666,\n",
       "        24.8416892 , 28.72002146, 15.05907823,  4.92397147,  9.98343582],\n",
       "       [19.9771961 ,  9.88629341, 33.08716638, 19.98022794, 25.04151194,\n",
       "        19.93382217,  9.81563871, 10.0561871 , 24.88809569,  7.457917  ,\n",
       "         4.05749562, 19.89016335, 19.94497686, 19.90636542, 11.09551768,\n",
       "        10.13701346, 15.42654205, 29.72210538, 31.61217563, 14.70483149,\n",
       "        13.00359421, 14.97051035, 18.84139956, 13.09422725, 12.19221475,\n",
       "        24.89212918, 15.11796559, 15.1602735 ,  4.88553038,  9.98273905],\n",
       "       [74.71351763, 83.8059132 , 93.52798447, 97.97071226, 97.64740112,\n",
       "        77.16430213, 41.52009921, 10.43884764, 33.69477929, 87.63664984,\n",
       "        53.09620761, 81.27638017, 71.53158916, 64.19574407, 97.99248819,\n",
       "        33.08425898, 25.24714379, 30.37195357, 35.7507513 , 18.47123188,\n",
       "        25.06886442, 35.14812478, 33.47481583, 13.58821708, 14.33372785,\n",
       "        24.90614914, 61.93413019, 16.2323544 , 79.54388584, 97.98680583]])"
      ]
     },
     "execution_count": 30,
     "metadata": {},
     "output_type": "execute_result"
    }
   ],
   "source": [
    "neuronas"
   ]
  },
  {
   "cell_type": "code",
   "execution_count": 31,
   "metadata": {},
   "outputs": [
    {
     "data": {
      "text/plain": [
       "27751.0"
      ]
     },
     "execution_count": 31,
     "metadata": {},
     "output_type": "execute_result"
    }
   ],
   "source": [
    "cluster.sum()"
   ]
  },
  {
   "cell_type": "code",
   "execution_count": 32,
   "metadata": {},
   "outputs": [
    {
     "data": {
      "text/plain": [
       "array([[  199., 13962., 13590.]])"
      ]
     },
     "execution_count": 32,
     "metadata": {},
     "output_type": "execute_result"
    }
   ],
   "source": [
    "cluster"
   ]
  },
  {
   "cell_type": "code",
   "execution_count": 33,
   "metadata": {},
   "outputs": [
    {
     "ename": "ValueError",
     "evalue": "Data must be 1-dimensional, got ndarray of shape (27751, 1) instead",
     "output_type": "error",
     "traceback": [
      "\u001b[1;31m---------------------------------------------------------------------------\u001b[0m",
      "\u001b[1;31mValueError\u001b[0m                                Traceback (most recent call last)",
      "Cell \u001b[1;32mIn[33], line 1\u001b[0m\n\u001b[1;32m----> 1\u001b[0m pd\u001b[39m.\u001b[39;49mSeries(pertenencia)\u001b[39m.\u001b[39mvalue_counts()\n",
      "File \u001b[1;32mc:\\Users\\juanj\\AppData\\Local\\Programs\\Python\\Python310\\lib\\site-packages\\pandas\\core\\series.py:509\u001b[0m, in \u001b[0;36mSeries.__init__\u001b[1;34m(self, data, index, dtype, name, copy, fastpath)\u001b[0m\n\u001b[0;32m    507\u001b[0m         data \u001b[39m=\u001b[39m data\u001b[39m.\u001b[39mcopy()\n\u001b[0;32m    508\u001b[0m \u001b[39melse\u001b[39;00m:\n\u001b[1;32m--> 509\u001b[0m     data \u001b[39m=\u001b[39m sanitize_array(data, index, dtype, copy)\n\u001b[0;32m    511\u001b[0m     manager \u001b[39m=\u001b[39m get_option(\u001b[39m\"\u001b[39m\u001b[39mmode.data_manager\u001b[39m\u001b[39m\"\u001b[39m)\n\u001b[0;32m    512\u001b[0m     \u001b[39mif\u001b[39;00m manager \u001b[39m==\u001b[39m \u001b[39m\"\u001b[39m\u001b[39mblock\u001b[39m\u001b[39m\"\u001b[39m:\n",
      "File \u001b[1;32mc:\\Users\\juanj\\AppData\\Local\\Programs\\Python\\Python310\\lib\\site-packages\\pandas\\core\\construction.py:607\u001b[0m, in \u001b[0;36msanitize_array\u001b[1;34m(data, index, dtype, copy, allow_2d)\u001b[0m\n\u001b[0;32m    604\u001b[0m             subarr \u001b[39m=\u001b[39m cast(np\u001b[39m.\u001b[39mndarray, subarr)\n\u001b[0;32m    605\u001b[0m             subarr \u001b[39m=\u001b[39m maybe_infer_to_datetimelike(subarr)\n\u001b[1;32m--> 607\u001b[0m subarr \u001b[39m=\u001b[39m _sanitize_ndim(subarr, data, dtype, index, allow_2d\u001b[39m=\u001b[39;49mallow_2d)\n\u001b[0;32m    609\u001b[0m \u001b[39mif\u001b[39;00m \u001b[39misinstance\u001b[39m(subarr, np\u001b[39m.\u001b[39mndarray):\n\u001b[0;32m    610\u001b[0m     \u001b[39m# at this point we should have dtype be None or subarr.dtype == dtype\u001b[39;00m\n\u001b[0;32m    611\u001b[0m     dtype \u001b[39m=\u001b[39m cast(np\u001b[39m.\u001b[39mdtype, dtype)\n",
      "File \u001b[1;32mc:\\Users\\juanj\\AppData\\Local\\Programs\\Python\\Python310\\lib\\site-packages\\pandas\\core\\construction.py:666\u001b[0m, in \u001b[0;36m_sanitize_ndim\u001b[1;34m(result, data, dtype, index, allow_2d)\u001b[0m\n\u001b[0;32m    664\u001b[0m     \u001b[39mif\u001b[39;00m allow_2d:\n\u001b[0;32m    665\u001b[0m         \u001b[39mreturn\u001b[39;00m result\n\u001b[1;32m--> 666\u001b[0m     \u001b[39mraise\u001b[39;00m \u001b[39mValueError\u001b[39;00m(\n\u001b[0;32m    667\u001b[0m         \u001b[39mf\u001b[39m\u001b[39m\"\u001b[39m\u001b[39mData must be 1-dimensional, got ndarray of shape \u001b[39m\u001b[39m{\u001b[39;00mdata\u001b[39m.\u001b[39mshape\u001b[39m}\u001b[39;00m\u001b[39m instead\u001b[39m\u001b[39m\"\u001b[39m\n\u001b[0;32m    668\u001b[0m     )\n\u001b[0;32m    669\u001b[0m \u001b[39mif\u001b[39;00m is_object_dtype(dtype) \u001b[39mand\u001b[39;00m \u001b[39misinstance\u001b[39m(dtype, ExtensionDtype):\n\u001b[0;32m    670\u001b[0m     \u001b[39m# i.e. PandasDtype(\"O\")\u001b[39;00m\n\u001b[0;32m    672\u001b[0m     result \u001b[39m=\u001b[39m com\u001b[39m.\u001b[39masarray_tuplesafe(data, dtype\u001b[39m=\u001b[39mnp\u001b[39m.\u001b[39mdtype(\u001b[39m\"\u001b[39m\u001b[39mobject\u001b[39m\u001b[39m\"\u001b[39m))\n",
      "\u001b[1;31mValueError\u001b[0m: Data must be 1-dimensional, got ndarray of shape (27751, 1) instead"
     ]
    }
   ],
   "source": [
    "pd.Series(pertenencia).value_counts()"
   ]
  },
  {
   "attachments": {},
   "cell_type": "markdown",
   "metadata": {},
   "source": [
    "# K-Means"
   ]
  },
  {
   "attachments": {},
   "cell_type": "markdown",
   "metadata": {},
   "source": [
    "# STEP 2. ALGORITHM."
   ]
  },
  {
   "cell_type": "code",
   "execution_count": 34,
   "metadata": {},
   "outputs": [],
   "source": [
    "\n",
    "pertenencia=np.zeros((27751, 1))\n",
    "\n",
    "m=BaseAumentada.shape[0]\n",
    "n =BaseAumentada.shape[1]\n",
    "colnames = BaseAumentada.columns\n",
    "neuronas =np.zeros((3, n))\n",
    "promedio =np.zeros((1, n))\n",
    "minimo =np.zeros((1, n))\n",
    "maximo =np.zeros((1, n))"
   ]
  },
  {
   "attachments": {},
   "cell_type": "markdown",
   "metadata": {},
   "source": [
    "# Initialize the locations."
   ]
  },
  {
   "cell_type": "code",
   "execution_count": 35,
   "metadata": {},
   "outputs": [],
   "source": [
    "\n",
    "for i in range(n):\n",
    "    minimo[0, i] = np.min(BaseAumentada.iloc[:, i])\n",
    "\n",
    "for i in range(n):\n",
    "    maximo[0, i] = np.max(BaseAumentada.iloc[:, i])\n",
    "\n",
    "for i in range(n):\n",
    "    promedio[0, i] = np.mean(BaseAumentada.iloc[:, i])\n",
    "\n",
    "neuronas[0, :] = minimo[0, :]\n",
    "neuronas[1, :] = promedio[0, :]\n",
    "neuronas[2, :] = maximo[0, :]"
   ]
  },
  {
   "attachments": {},
   "cell_type": "markdown",
   "metadata": {},
   "source": [
    "# Synaptic Potential"
   ]
  },
  {
   "cell_type": "code",
   "execution_count": 36,
   "metadata": {},
   "outputs": [],
   "source": [
    "h = np.zeros((1, 3))\n",
    "base = BaseAumentada.values\n",
    "accum = np.zeros((3,n))"
   ]
  },
  {
   "attachments": {},
   "cell_type": "markdown",
   "metadata": {},
   "source": [
    "# Cluster"
   ]
  },
  {
   "cell_type": "code",
   "execution_count": 37,
   "metadata": {},
   "outputs": [],
   "source": [
    "cluster = np.zeros((1, 3))\n",
    "\n",
    "for k in range(3):\n",
    "    cluster = np.zeros((1, 3))\n",
    "\n",
    "    for i in range(m):\n",
    "        for j in range(3):\n",
    "            h[0, j] = np.dot(base[i, :], neuronas[j, :]) - 0.5 * (np.dot(neuronas[j, :], neuronas[j, :]))\n",
    "\n",
    "        un = 0.5 * (1 - i / m)\n",
    "        max_val = np.max(h[0, :])\n",
    "\n",
    "        if h[0, 0] == max_val:\n",
    "            neuronas[0, :] = neuronas[0, :]  #+ un * (base[i, :] - neuronas[0, :])\n",
    "            cluster[0, 0] += 1\n",
    "            pertenencia[i] = 1\n",
    "            accum[0,:] =(accum[0,:] +  base[i, :]) / cluster[0,0]\n",
    "            \n",
    "\n",
    "        if h[0, 1] == max_val:\n",
    "            neuronas[1, :] = neuronas[1, :]# + un * (base[i, :] - neuronas[1, :])\n",
    "            cluster[0, 1] += 1\n",
    "            pertenencia[i] = 2\n",
    "            accum[1,:] = (accum[1,:] +  base[i, :]) / cluster[0,1]\n",
    "\n",
    "        if h[0, 2] == max_val:\n",
    "            neuronas[2, :] = neuronas[2, :] # + un * (base[i, :] - neuronas[2, :])\n",
    "            cluster[0, 2] += 1\n",
    "            pertenencia[i] = 3\n",
    "            accum[2,:] =(accum[2,:] +  base[i, :]) / cluster[0,2]\n",
    "\n",
    "    k += 1\n"
   ]
  },
  {
   "cell_type": "code",
   "execution_count": 38,
   "metadata": {},
   "outputs": [
    {
     "data": {
      "text/plain": [
       "array([[13793., 10845.,  3113.]])"
      ]
     },
     "execution_count": 38,
     "metadata": {},
     "output_type": "execute_result"
    }
   ],
   "source": [
    "cluster"
   ]
  },
  {
   "cell_type": "code",
   "execution_count": 39,
   "metadata": {},
   "outputs": [
    {
     "data": {
      "text/plain": [
       "27751.0"
      ]
     },
     "execution_count": 39,
     "metadata": {},
     "output_type": "execute_result"
    }
   ],
   "source": [
    "cluster.sum()"
   ]
  },
  {
   "attachments": {},
   "cell_type": "markdown",
   "metadata": {},
   "source": [
    "# Neural Gas"
   ]
  },
  {
   "attachments": {},
   "cell_type": "markdown",
   "metadata": {},
   "source": [
    "# STEP 2. ALGORITHM."
   ]
  },
  {
   "cell_type": "code",
   "execution_count": 45,
   "metadata": {},
   "outputs": [],
   "source": [
    "m = BaseAumentada.shape[0]\n",
    "n = BaseAumentada.shape[1]\n",
    "pertenencia = np.zeros(m)\n",
    "neuronas = np.zeros((3, n))\n",
    "promedio = np.zeros((1, n))\n",
    "minimo = np.zeros((1, n))\n",
    "maximo = np.zeros((1, n))"
   ]
  },
  {
   "attachments": {},
   "cell_type": "markdown",
   "metadata": {},
   "source": [
    "# Initialize the locations."
   ]
  },
  {
   "cell_type": "code",
   "execution_count": 44,
   "metadata": {},
   "outputs": [],
   "source": [
    "for i in range(n):\n",
    "    minimo[0, i] = np.min(BaseAumentada.iloc[:, i])\n",
    "\n",
    "for i in range(n):\n",
    "    maximo[0, i] = np.max(BaseAumentada.iloc[:, i])\n",
    "\n",
    "for i in range(n):\n",
    "    promedio[0, i] = np.mean(BaseAumentada.iloc[:, i])\n",
    "\n",
    "neuronas[0, :] = minimo[0, :]\n",
    "neuronas[1, :] = promedio[0, :]\n",
    "neuronas[2, :] = maximo[0, :]"
   ]
  },
  {
   "attachments": {},
   "cell_type": "markdown",
   "metadata": {},
   "source": [
    "# Synaptic Potential"
   ]
  },
  {
   "cell_type": "code",
   "execution_count": 42,
   "metadata": {},
   "outputs": [],
   "source": [
    "h = np.zeros((1, 3))\n",
    "base = BaseAumentada.values"
   ]
  },
  {
   "cell_type": "code",
   "execution_count": 49,
   "metadata": {},
   "outputs": [],
   "source": [
    "t = 0\n",
    "e0 = 0.3\n",
    "ef = 0.05\n",
    "lam0 = 10\n",
    "lamf = 0.01\n",
    "tmax = m"
   ]
  },
  {
   "cell_type": "code",
   "execution_count": 50,
   "metadata": {},
   "outputs": [],
   "source": [
    "e = (e0*((ef/e0)**(i/tmax)))\n",
    "lam = (lam0*((lamf/lam0)**(i/tmax)))"
   ]
  },
  {
   "attachments": {},
   "cell_type": "markdown",
   "metadata": {},
   "source": [
    "# Cluster"
   ]
  },
  {
   "cell_type": "code",
   "execution_count": null,
   "metadata": {},
   "outputs": [],
   "source": [
    "cluster = np.zeros((1, 3))\n",
    "\n",
    "for k in range(3):\n",
    "    cluster = np.zeros((1, 3))\n",
    "\n",
    "    for i in range(m):\n",
    "        for j in range(3):\n",
    "            h[0, j] = np.dot(base[i, :], neuronas[j, :]) - 0.5 * (np.dot(neuronas[j, :], neuronas[j, :]))\n",
    "\n",
    "        un = 0.5 * (1 - i / m)\n",
    "        max_val = np.max(h[0, :])\n",
    "\n",
    "        if h[0, 0] == max_val:\n",
    "            neuronas[0, :] = neuronas[0, :] + un * (base[i, :] - neuronas[0, :])\n",
    "            cluster[0, 0] += 1\n",
    "            pertenencia[i] = 1\n",
    "            \n",
    "\n",
    "        if h[0, 1] == max_val:\n",
    "            neuronas[1, :] = neuronas[1, :] + un * (base[i, :] - neuronas[1, :])\n",
    "            cluster[0, 1] += 1\n",
    "            pertenencia[i] = 2\n",
    "\n",
    "        if h[0, 2] == max_val:\n",
    "            neuronas[2, :] = neuronas[2, :] + un * (base[i, :] - neuronas[2, :])\n",
    "            cluster[0, 2] += 1\n",
    "            pertenencia[i] = 3\n",
    "\n",
    "    k += 1\n",
    "\n",
    "\n"
   ]
  }
 ],
 "metadata": {
  "kernelspec": {
   "display_name": "Python 3",
   "language": "python",
   "name": "python3"
  },
  "language_info": {
   "codemirror_mode": {
    "name": "ipython",
    "version": 3
   },
   "file_extension": ".py",
   "mimetype": "text/x-python",
   "name": "python",
   "nbconvert_exporter": "python",
   "pygments_lexer": "ipython3",
   "version": "3.10.10"
  },
  "orig_nbformat": 4
 },
 "nbformat": 4,
 "nbformat_minor": 2
}
