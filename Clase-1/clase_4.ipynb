{
 "cells": [
  {
   "cell_type": "code",
   "execution_count": 1,
   "metadata": {},
   "outputs": [
    {
     "name": "stdout",
     "output_type": "stream",
     "text": [
      "[[0.2  0.65 0.45 0.34]\n",
      " [0.8  0.35 0.55 0.21]]\n",
      "[[0.15]\n",
      " [0.3 ]\n",
      " [0.45]\n",
      " [0.1 ]]\n",
      "[[0.2  0.15 0.45 0.1 ]]\n"
     ]
    },
    {
     "ename": "NameError",
     "evalue": "name 'X' is not defined",
     "output_type": "error",
     "traceback": [
      "\u001b[1;31m---------------------------------------------------------------------------\u001b[0m",
      "\u001b[1;31mNameError\u001b[0m                                 Traceback (most recent call last)",
      "Cell \u001b[1;32mIn[1], line 56\u001b[0m\n\u001b[0;32m     52\u001b[0m  \u001b[39mreturn\u001b[39;00m Wxh,Why\n\u001b[0;32m     55\u001b[0m \u001b[39m#Reecalcular parámetros\u001b[39;00m\n\u001b[1;32m---> 56\u001b[0m y_hat\u001b[39m=\u001b[39mforward_prop(X)\n\u001b[0;32m     57\u001b[0m z1 \u001b[39m=\u001b[39m np\u001b[39m.\u001b[39mdot(X,Wxh) \u001b[39m+\u001b[39m bh\n\u001b[0;32m     58\u001b[0m a1 \u001b[39m=\u001b[39m sigmoid(z1)\n",
      "\u001b[1;31mNameError\u001b[0m: name 'X' is not defined"
     ]
    }
   ],
   "source": [
    "import pandas as pd\n",
    "import numpy as np\n",
    "import matplotlib.pyplot as plt\n",
    "\n",
    "#Definir función sigmoide\n",
    "def sigmoid(x):\n",
    " return 1/ (1+np.exp(-x))\n",
    "\n",
    "#Inicializar los pesos de las 3 neuronas de la capa oculta.\n",
    "\n",
    "Wxh=np.array([[0.2,0.65,0.45,0.34],\n",
    "             [0.8,0.35,0.55,0.21]])\n",
    "print(Wxh)\n",
    "\n",
    "\n",
    "#Inicializar pesos en la neurona de salida.\n",
    "\n",
    "Why=np.array([[0.15],\n",
    "             [0.3],\n",
    "             [0.45],\n",
    "             [0.1]])\n",
    "print(Why)\n",
    "\n",
    "\n",
    "#Inicializar sesgo de las neuronas en la capa oculta.\n",
    "\n",
    "bh=np.array([[0.2,0.15,0.45,0.1]])\n",
    "\n",
    "print(bh)\n",
    "\n",
    "\n",
    "#Definir la forward propagation.\n",
    "by=0\n",
    "\n",
    "def forward_prop(X):\n",
    " z1 = np.dot(X,Wxh) + bh\n",
    " a1 = sigmoid(z1)\n",
    " z2 = np.dot(a1,Why) + by\n",
    " y_hat = sigmoid(z2)\n",
    " return y_hat\n",
    "\n",
    "\n",
    "#Definir la back propagation.\n",
    "\n",
    "def backword_prop(y_hat, z1, a1, z2,alpha):\n",
    " global Wxh, Why\n",
    " delta2 = np.multiply(-(y-y_hat),sigmoidPrime(z2))\n",
    " dJ_dWhy = np.dot(a1.T, delta2)\n",
    " delta1 = np.dot(delta2,Why.T)*sigmoidPrime(z1)\n",
    " dJ_dWxh = np.dot(X.T, delta1)\n",
    " Wxh = Wxh - alpha * dJ_dWxh\n",
    " Why = Why - alpha * dJ_dWhy\n",
    " return Wxh,Why\n",
    "\n",
    "\n",
    "#Reecalcular parámetros\n",
    "y_hat=forward_prop(X)\n",
    "z1 = np.dot(X,Wxh) + bh\n",
    "a1 = sigmoid(z1)\n",
    "z2 = np.dot(a1,Why) + by\n",
    "alpha=0.025\n",
    "\n",
    "backword_prop(y_hat, z1, a1, z2,alpha)\n",
    "\n",
    "\n",
    "#Definir fución de predicción.\n",
    "\n",
    "def pred(X):\n",
    " z1 = np.dot(X,Wxh) + bh\n",
    " a1 = sigmoid(z1)\n",
    " z2 = np.dot(a1,Why) + by\n",
    " y_hat = sigmoid(z2)\n",
    " return y_hat"
   ]
  }
 ],
 "metadata": {
  "kernelspec": {
   "display_name": "Python 3",
   "language": "python",
   "name": "python3"
  },
  "language_info": {
   "codemirror_mode": {
    "name": "ipython",
    "version": 3
   },
   "file_extension": ".py",
   "mimetype": "text/x-python",
   "name": "python",
   "nbconvert_exporter": "python",
   "pygments_lexer": "ipython3",
   "version": "3.10.10"
  },
  "orig_nbformat": 4
 },
 "nbformat": 4,
 "nbformat_minor": 2
}
