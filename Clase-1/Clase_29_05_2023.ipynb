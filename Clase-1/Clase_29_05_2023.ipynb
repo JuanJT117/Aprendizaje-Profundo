{
 "cells": [
  {
   "cell_type": "markdown",
   "metadata": {
    "id": "hlQQqSVlSxbY"
   },
   "source": [
    "# Red Neuronal Propagación hacia delante\n"
   ]
  },
  {
   "cell_type": "code",
   "execution_count": null,
   "metadata": {},
   "outputs": [],
   "source": []
  },
  {
   "cell_type": "code",
   "execution_count": 35,
   "metadata": {
    "id": "RAencHXGSsuq"
   },
   "outputs": [],
   "source": [
    "import pandas as pd \n",
    "import numpy as np\n"
   ]
  },
  {
   "cell_type": "markdown",
   "metadata": {
    "id": "d5UEKnqNTKR7"
   },
   "source": [
    "### Se define una RNA con las sig. características:\n",
    "\n",
    "1. Una capa de entrada con dos inputs x1, x2\n",
    "2. Una capa oculta con 4 neuronas h1, h2, h3 y h4\n",
    "3. Una capa de salida con 1 neurona o1\n"
   ]
  },
  {
   "cell_type": "markdown",
   "metadata": {
    "id": "Kg5CJfnCTj-z"
   },
   "source": [
    "#### Inicializar los pesos de las 4 neuronas de la capa oculta"
   ]
  },
  {
   "cell_type": "code",
   "execution_count": 36,
   "metadata": {
    "colab": {
     "base_uri": "https://localhost:8080/"
    },
    "id": "hyDC1cqdS8xg",
    "outputId": "7cb85143-2027-4ad4-d461-b12253311415"
   },
   "outputs": [
    {
     "name": "stdout",
     "output_type": "stream",
     "text": [
      "[[0.2  0.65 0.45 0.12]\n",
      " [0.8  0.35 0.55 0.15]\n",
      " [0.2  0.65 0.45 0.12]\n",
      " [0.8  0.35 0.55 0.15]\n",
      " [0.2  0.65 0.45 0.12]\n",
      " [0.8  0.35 0.55 0.15]\n",
      " [0.2  0.65 0.45 0.12]\n",
      " [0.8  0.35 0.55 0.15]\n",
      " [0.8  0.35 0.55 0.15]\n",
      " [0.2  0.65 0.45 0.12]\n",
      " [0.8  0.35 0.55 0.15]]\n"
     ]
    }
   ],
   "source": [
    "# Se define una RNA con las sig. características\n",
    "Wxh = np.array([[0.2,0.65, 0.45,0.12],\n",
    "                [0.8,0.35,0.55,0.15],\n",
    "                [0.2,0.65, 0.45,0.12],\n",
    "                [0.8,0.35,0.55,0.15],\n",
    "                [0.2,0.65, 0.45,0.12],\n",
    "                [0.8,0.35,0.55,0.15],\n",
    "                [0.2,0.65, 0.45,0.12],\n",
    "                [0.8,0.35,0.55,0.15] ,\n",
    "                [0.8,0.35,0.55,0.15],\n",
    "                [0.2,0.65, 0.45,0.12],\n",
    "                [0.8,0.35,0.55,0.15]\n",
    "                ])\n",
    "print(Wxh)"
   ]
  },
  {
   "cell_type": "markdown",
   "metadata": {
    "id": "l-hlAFAeULso"
   },
   "source": [
    "#### Inicializar los pesos de la neurona en la capa de salida"
   ]
  },
  {
   "cell_type": "code",
   "execution_count": 37,
   "metadata": {
    "colab": {
     "base_uri": "https://localhost:8080/"
    },
    "id": "o9Vvyc8nS8vH",
    "outputId": "0e700708-10df-4966-9ac4-2a3562cbee04"
   },
   "outputs": [
    {
     "name": "stdout",
     "output_type": "stream",
     "text": [
      "[[0.2 ]\n",
      " [0.35]\n",
      " [0.45]\n",
      " [0.52]]\n"
     ]
    }
   ],
   "source": [
    "Why = np.array([[0.2],  \n",
    "                [0.35], \n",
    "                [0.45], \n",
    "                [0.52], \n",
    "                ])\n",
    "print(Why)"
   ]
  },
  {
   "cell_type": "markdown",
   "metadata": {
    "id": "iPEB3R-eUlKS"
   },
   "source": [
    "#### Inicializamos los sesgos"
   ]
  },
  {
   "cell_type": "code",
   "execution_count": 38,
   "metadata": {
    "colab": {
     "base_uri": "https://localhost:8080/"
    },
    "id": "U7sR2lBVS8sj",
    "outputId": "3248999b-e019-4d51-ec05-a13b1816dc21"
   },
   "outputs": [
    {
     "name": "stdout",
     "output_type": "stream",
     "text": [
      "[0 0 0 0] 0\n"
     ]
    }
   ],
   "source": [
    "bh = np.array([0 ,0,0,0 ])\n",
    "by = 0\n",
    "print(bh,by)"
   ]
  },
  {
   "cell_type": "markdown",
   "metadata": {
    "id": "vJ02Sca3U6LT"
   },
   "source": [
    "#### Definir funcion de activacion\n",
    "\n",
    "Como la sigmoide o la logit"
   ]
  },
  {
   "cell_type": "code",
   "execution_count": 39,
   "metadata": {
    "id": "6Ba7BJ9dS8pz"
   },
   "outputs": [],
   "source": [
    "def sigmoid(x):\n",
    "  s= 1/(1 + np.exp(-x))\n",
    "  return s"
   ]
  },
  {
   "cell_type": "markdown",
   "metadata": {
    "id": "uvvGdaVXVJne"
   },
   "source": [
    "#### Definir la propagacion hacia delante "
   ]
  },
  {
   "cell_type": "code",
   "execution_count": 45,
   "metadata": {
    "id": "ofSCaDVeVD23"
   },
   "outputs": [],
   "source": [
    "def forward_prop(x):\n",
    "  global z1,z2\n",
    "  z1 = np.dot(x,Wxh) + bh   #capa oculta  -- (1x2) (2x4) = (1x4) --> (1x4)+(1x4) --> 1x4\n",
    "  a1 = sigmoid(z1)          #capa oculta  -- (1x4)\n",
    "  z2 = np.dot(a1, Why) + by #capa salida  -- (1x4) (4x1)\n",
    "  y_gorro = sigmoid(z2)     #capa salida  -- (1x1) -- escalar\n",
    "  \n",
    "  return y_gorro "
   ]
  },
  {
   "cell_type": "markdown",
   "metadata": {
    "id": "KWkoNjxBjlBo"
   },
   "source": [
    "# Back propagation"
   ]
  },
  {
   "cell_type": "code",
   "execution_count": 41,
   "metadata": {
    "id": "bfCAu2BUjtX5"
   },
   "outputs": [],
   "source": [
    "import matplotlib.pyplot as plt"
   ]
  },
  {
   "cell_type": "markdown",
   "metadata": {
    "id": "dux4HNC4j7nd"
   },
   "source": [
    "#### Definicion de la derivada de la sigmoide"
   ]
  },
  {
   "cell_type": "code",
   "execution_count": 42,
   "metadata": {
    "id": "ujJHvgF9WcXg"
   },
   "outputs": [],
   "source": [
    "def sigmoidPrime(x):\n",
    "  d = (np.exp(-x)) / ((1 + np.exp(-x))**2)\n",
    "  return d"
   ]
  },
  {
   "cell_type": "code",
   "execution_count": 43,
   "metadata": {
    "id": "qFL2-UG1kiYT"
   },
   "outputs": [],
   "source": [
    "def back_prop(y_gorro, z1,a1,z2,y, alpha ):\n",
    "  global Wxh, Why ,dJ_dWxh\n",
    "  delta2 = np.multiply(-(y-y_gorro), sigmoidPrime(z2)) # 1x1\n",
    "  dJ_dWhy = np.dot(a1.reshape(4,1) , delta2) # 4 x 1 ) ( 1 x 1 ) \n",
    "  delta1= np.dot(delta2, Why.T)*sigmoidPrime(z1) # ( 4x1 ) \n",
    "  dJ_dWxh =np.dot(X.reshape(11,1) , delta1.reshape(1,4))\n",
    "  Wxh = Wxh - alpha * dJ_dWxh\n",
    "  Why =  Why  - alpha * dJ_dWhy.reshape(4,1)\n",
    "  return Wxh, Why #Wxh 2 x 4 \\\\ Why 4x1"
   ]
  },
  {
   "cell_type": "code",
   "execution_count": 44,
   "metadata": {},
   "outputs": [
    {
     "ename": "FileNotFoundError",
     "evalue": "[Errno 2] No such file or directory: 'EarlyRetirementPrediction.xlsx'",
     "output_type": "error",
     "traceback": [
      "\u001b[1;31m---------------------------------------------------------------------------\u001b[0m",
      "\u001b[1;31mFileNotFoundError\u001b[0m                         Traceback (most recent call last)",
      "Cell \u001b[1;32mIn[44], line 1\u001b[0m\n\u001b[1;32m----> 1\u001b[0m df \u001b[39m=\u001b[39m pd\u001b[39m.\u001b[39;49mread_excel(\u001b[39m\"\u001b[39;49m\u001b[39mEarlyRetirementPrediction.xlsx\u001b[39;49m\u001b[39m\"\u001b[39;49m)\n\u001b[0;32m      3\u001b[0m df \u001b[39m=\u001b[39m df\u001b[39m.\u001b[39mreset_index()  \u001b[39m# make sure indexes pair with number of rows\u001b[39;00m\n\u001b[0;32m      5\u001b[0m alpha\u001b[39m=\u001b[39m \u001b[39m0.025\u001b[39m\n",
      "File \u001b[1;32mc:\\Users\\juanj\\AppData\\Local\\Programs\\Python\\Python310\\lib\\site-packages\\pandas\\io\\excel\\_base.py:478\u001b[0m, in \u001b[0;36mread_excel\u001b[1;34m(io, sheet_name, header, names, index_col, usecols, dtype, engine, converters, true_values, false_values, skiprows, nrows, na_values, keep_default_na, na_filter, verbose, parse_dates, date_parser, date_format, thousands, decimal, comment, skipfooter, storage_options, dtype_backend)\u001b[0m\n\u001b[0;32m    476\u001b[0m \u001b[39mif\u001b[39;00m \u001b[39mnot\u001b[39;00m \u001b[39misinstance\u001b[39m(io, ExcelFile):\n\u001b[0;32m    477\u001b[0m     should_close \u001b[39m=\u001b[39m \u001b[39mTrue\u001b[39;00m\n\u001b[1;32m--> 478\u001b[0m     io \u001b[39m=\u001b[39m ExcelFile(io, storage_options\u001b[39m=\u001b[39;49mstorage_options, engine\u001b[39m=\u001b[39;49mengine)\n\u001b[0;32m    479\u001b[0m \u001b[39melif\u001b[39;00m engine \u001b[39mand\u001b[39;00m engine \u001b[39m!=\u001b[39m io\u001b[39m.\u001b[39mengine:\n\u001b[0;32m    480\u001b[0m     \u001b[39mraise\u001b[39;00m \u001b[39mValueError\u001b[39;00m(\n\u001b[0;32m    481\u001b[0m         \u001b[39m\"\u001b[39m\u001b[39mEngine should not be specified when passing \u001b[39m\u001b[39m\"\u001b[39m\n\u001b[0;32m    482\u001b[0m         \u001b[39m\"\u001b[39m\u001b[39man ExcelFile - ExcelFile already has the engine set\u001b[39m\u001b[39m\"\u001b[39m\n\u001b[0;32m    483\u001b[0m     )\n",
      "File \u001b[1;32mc:\\Users\\juanj\\AppData\\Local\\Programs\\Python\\Python310\\lib\\site-packages\\pandas\\io\\excel\\_base.py:1496\u001b[0m, in \u001b[0;36mExcelFile.__init__\u001b[1;34m(self, path_or_buffer, engine, storage_options)\u001b[0m\n\u001b[0;32m   1494\u001b[0m     ext \u001b[39m=\u001b[39m \u001b[39m\"\u001b[39m\u001b[39mxls\u001b[39m\u001b[39m\"\u001b[39m\n\u001b[0;32m   1495\u001b[0m \u001b[39melse\u001b[39;00m:\n\u001b[1;32m-> 1496\u001b[0m     ext \u001b[39m=\u001b[39m inspect_excel_format(\n\u001b[0;32m   1497\u001b[0m         content_or_path\u001b[39m=\u001b[39;49mpath_or_buffer, storage_options\u001b[39m=\u001b[39;49mstorage_options\n\u001b[0;32m   1498\u001b[0m     )\n\u001b[0;32m   1499\u001b[0m     \u001b[39mif\u001b[39;00m ext \u001b[39mis\u001b[39;00m \u001b[39mNone\u001b[39;00m:\n\u001b[0;32m   1500\u001b[0m         \u001b[39mraise\u001b[39;00m \u001b[39mValueError\u001b[39;00m(\n\u001b[0;32m   1501\u001b[0m             \u001b[39m\"\u001b[39m\u001b[39mExcel file format cannot be determined, you must specify \u001b[39m\u001b[39m\"\u001b[39m\n\u001b[0;32m   1502\u001b[0m             \u001b[39m\"\u001b[39m\u001b[39man engine manually.\u001b[39m\u001b[39m\"\u001b[39m\n\u001b[0;32m   1503\u001b[0m         )\n",
      "File \u001b[1;32mc:\\Users\\juanj\\AppData\\Local\\Programs\\Python\\Python310\\lib\\site-packages\\pandas\\io\\excel\\_base.py:1371\u001b[0m, in \u001b[0;36minspect_excel_format\u001b[1;34m(content_or_path, storage_options)\u001b[0m\n\u001b[0;32m   1368\u001b[0m \u001b[39mif\u001b[39;00m \u001b[39misinstance\u001b[39m(content_or_path, \u001b[39mbytes\u001b[39m):\n\u001b[0;32m   1369\u001b[0m     content_or_path \u001b[39m=\u001b[39m BytesIO(content_or_path)\n\u001b[1;32m-> 1371\u001b[0m \u001b[39mwith\u001b[39;00m get_handle(\n\u001b[0;32m   1372\u001b[0m     content_or_path, \u001b[39m\"\u001b[39;49m\u001b[39mrb\u001b[39;49m\u001b[39m\"\u001b[39;49m, storage_options\u001b[39m=\u001b[39;49mstorage_options, is_text\u001b[39m=\u001b[39;49m\u001b[39mFalse\u001b[39;49;00m\n\u001b[0;32m   1373\u001b[0m ) \u001b[39mas\u001b[39;00m handle:\n\u001b[0;32m   1374\u001b[0m     stream \u001b[39m=\u001b[39m handle\u001b[39m.\u001b[39mhandle\n\u001b[0;32m   1375\u001b[0m     stream\u001b[39m.\u001b[39mseek(\u001b[39m0\u001b[39m)\n",
      "File \u001b[1;32mc:\\Users\\juanj\\AppData\\Local\\Programs\\Python\\Python310\\lib\\site-packages\\pandas\\io\\common.py:868\u001b[0m, in \u001b[0;36mget_handle\u001b[1;34m(path_or_buf, mode, encoding, compression, memory_map, is_text, errors, storage_options)\u001b[0m\n\u001b[0;32m    859\u001b[0m         handle \u001b[39m=\u001b[39m \u001b[39mopen\u001b[39m(\n\u001b[0;32m    860\u001b[0m             handle,\n\u001b[0;32m    861\u001b[0m             ioargs\u001b[39m.\u001b[39mmode,\n\u001b[1;32m   (...)\u001b[0m\n\u001b[0;32m    864\u001b[0m             newline\u001b[39m=\u001b[39m\u001b[39m\"\u001b[39m\u001b[39m\"\u001b[39m,\n\u001b[0;32m    865\u001b[0m         )\n\u001b[0;32m    866\u001b[0m     \u001b[39melse\u001b[39;00m:\n\u001b[0;32m    867\u001b[0m         \u001b[39m# Binary mode\u001b[39;00m\n\u001b[1;32m--> 868\u001b[0m         handle \u001b[39m=\u001b[39m \u001b[39mopen\u001b[39;49m(handle, ioargs\u001b[39m.\u001b[39;49mmode)\n\u001b[0;32m    869\u001b[0m     handles\u001b[39m.\u001b[39mappend(handle)\n\u001b[0;32m    871\u001b[0m \u001b[39m# Convert BytesIO or file objects passed with an encoding\u001b[39;00m\n",
      "\u001b[1;31mFileNotFoundError\u001b[0m: [Errno 2] No such file or directory: 'EarlyRetirementPrediction.xlsx'"
     ]
    }
   ],
   "source": [
    "df = pd.read_excel(\"EarlyRetirementPrediction.xlsx\")\n",
    "\n",
    "df = df.reset_index()  # make sure indexes pair with number of rows\n",
    "\n",
    "alpha= 0.025\n",
    "\n",
    "for index, row in df.iterrows():\n",
    "    X = np.array([row['Gender'],\n",
    "                  row['Desease'],\n",
    "                  row['Monthly Income'],\n",
    "                  row['Dependants'],\n",
    "                  row['Education Level'],\n",
    "                  row['Marital Status'],\n",
    "                  row['Employee/Employer'],\n",
    "                  row['Unemployment Rate'],\n",
    "                  row['Stock Market'],\n",
    "                  row['Credit Score'],\n",
    "                  row['Government Bonds Return']])\n",
    "    y_gorro_gender = forward_prop(X)\n",
    "    z1  = np.dot(X, Wxh) + bh\n",
    "    a1 = sigmoid(z1)\n",
    "    z2 = np.dot(a1, Why) + by\n",
    "    back_prop(y_gorro, z1,a1,z2,row['Retire Before 65 Years Old'], alpha )\n",
    "\n",
    "    \n",
    "    "
   ]
  },
  {
   "cell_type": "code",
   "execution_count": null,
   "metadata": {},
   "outputs": [
    {
     "name": "stdout",
     "output_type": "stream",
     "text": [
      "[[0.2  0.65 0.45 0.12]\n",
      " [0.8  0.35 0.55 0.15]\n",
      " [0.2  0.65 0.45 0.12]\n",
      " [0.8  0.35 0.55 0.15]\n",
      " [0.2  0.65 0.45 0.12]\n",
      " [0.8  0.35 0.55 0.15]\n",
      " [0.2  0.65 0.45 0.12]\n",
      " [0.8  0.35 0.55 0.15]\n",
      " [0.8  0.35 0.55 0.15]\n",
      " [0.2  0.65 0.45 0.12]\n",
      " [0.8  0.35 0.55 0.15]]\n"
     ]
    }
   ],
   "source": [
    "print(Wxh)"
   ]
  },
  {
   "cell_type": "code",
   "execution_count": null,
   "metadata": {},
   "outputs": [
    {
     "name": "stdout",
     "output_type": "stream",
     "text": [
      "[[0.2 ]\n",
      " [0.35]\n",
      " [0.45]\n",
      " [0.52]]\n"
     ]
    }
   ],
   "source": [
    "print(Why)"
   ]
  },
  {
   "cell_type": "code",
   "execution_count": null,
   "metadata": {},
   "outputs": [
    {
     "ename": "NameError",
     "evalue": "name 'df' is not defined",
     "output_type": "error",
     "traceback": [
      "\u001b[1;31m---------------------------------------------------------------------------\u001b[0m",
      "\u001b[1;31mNameError\u001b[0m                                 Traceback (most recent call last)",
      "Cell \u001b[1;32mIn[19], line 2\u001b[0m\n\u001b[0;32m      1\u001b[0m \u001b[39m#Primera observacion en el DF\u001b[39;00m\n\u001b[1;32m----> 2\u001b[0m x\u001b[39m=\u001b[39m df\u001b[39m.\u001b[39miloc[\u001b[39m1\u001b[39m,\u001b[39m2\u001b[39m:]\u001b[39m.\u001b[39mvalues\n\u001b[0;32m      3\u001b[0m \u001b[39mprint\u001b[39m(x)\n\u001b[0;32m      4\u001b[0m \u001b[39mprint\u001b[39m(df\u001b[39m.\u001b[39miloc[\u001b[39m1\u001b[39m,\u001b[39m1\u001b[39m:]\u001b[39m.\u001b[39mvalues)\n",
      "\u001b[1;31mNameError\u001b[0m: name 'df' is not defined"
     ]
    }
   ],
   "source": [
    "#Primera observacion en el DF\n",
    "x= df.iloc[1,2:].values\n",
    "print(x)\n",
    "print(df.iloc[1,1:].values)"
   ]
  },
  {
   "cell_type": "code",
   "execution_count": null,
   "metadata": {},
   "outputs": [
    {
     "data": {
      "text/plain": [
       "array([0.02182991])"
      ]
     },
     "execution_count": 71,
     "metadata": {},
     "output_type": "execute_result"
    }
   ],
   "source": [
    "forward_prop(x)"
   ]
  },
  {
   "cell_type": "code",
   "execution_count": null,
   "metadata": {},
   "outputs": [],
   "source": []
  }
 ],
 "metadata": {
  "colab": {
   "provenance": []
  },
  "kernelspec": {
   "display_name": "Python 3 (ipykernel)",
   "language": "python",
   "name": "python3"
  },
  "language_info": {
   "codemirror_mode": {
    "name": "ipython",
    "version": 3
   },
   "file_extension": ".py",
   "mimetype": "text/x-python",
   "name": "python",
   "nbconvert_exporter": "python",
   "pygments_lexer": "ipython3",
   "version": "3.9.13"
  }
 },
 "nbformat": 4,
 "nbformat_minor": 1
}
