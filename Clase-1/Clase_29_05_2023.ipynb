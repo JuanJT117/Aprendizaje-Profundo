{
 "cells": [
  {
   "attachments": {},
   "cell_type": "markdown",
   "metadata": {
    "id": "hlQQqSVlSxbY"
   },
   "source": [
    "# Red Neuronal Propagación hacia delante 4 neronas ocultas 11 entradas\n"
   ]
  },
  {
   "cell_type": "code",
   "execution_count": 1,
   "metadata": {
    "id": "RAencHXGSsuq"
   },
   "outputs": [],
   "source": [
    "import pandas as pd \n",
    "import numpy as np"
   ]
  },
  {
   "cell_type": "markdown",
   "metadata": {
    "id": "d5UEKnqNTKR7"
   },
   "source": [
    "### Se define una RNA con las sig. características:\n",
    "\n",
    "1. Una capa de entrada con dos inputs x1, x2\n",
    "2. Una capa oculta con 4 neuronas h1, h2, h3 y h4\n",
    "3. Una capa de salida con 1 neurona o1\n"
   ]
  },
  {
   "cell_type": "markdown",
   "metadata": {
    "id": "Kg5CJfnCTj-z"
   },
   "source": [
    "#### Inicializar los pesos de las 4 neuronas de la capa oculta"
   ]
  },
  {
   "cell_type": "code",
   "execution_count": 2,
   "metadata": {
    "colab": {
     "base_uri": "https://localhost:8080/"
    },
    "id": "hyDC1cqdS8xg",
    "outputId": "7cb85143-2027-4ad4-d461-b12253311415"
   },
   "outputs": [
    {
     "name": "stdout",
     "output_type": "stream",
     "text": [
      "[[0.2  0.65 0.45 0.12]\n",
      " [0.8  0.35 0.55 0.15]\n",
      " [0.2  0.65 0.45 0.12]\n",
      " [0.8  0.35 0.55 0.15]\n",
      " [0.2  0.65 0.45 0.12]\n",
      " [0.8  0.35 0.55 0.15]\n",
      " [0.2  0.65 0.45 0.12]\n",
      " [0.8  0.35 0.55 0.15]\n",
      " [0.8  0.35 0.55 0.15]\n",
      " [0.2  0.65 0.45 0.12]\n",
      " [0.8  0.35 0.55 0.15]]\n"
     ]
    }
   ],
   "source": [
    "# Se define una RNA con las sig. características\n",
    "Wxh = np.array([[0.2,0.65, 0.45,0.12],\n",
    "                [0.8,0.35,0.55,0.15],\n",
    "                [0.2,0.65, 0.45,0.12],\n",
    "                [0.8,0.35,0.55,0.15],\n",
    "                [0.2,0.65, 0.45,0.12],\n",
    "                [0.8,0.35,0.55,0.15],\n",
    "                [0.2,0.65, 0.45,0.12],\n",
    "                [0.8,0.35,0.55,0.15] ,\n",
    "                [0.8,0.35,0.55,0.15],\n",
    "                [0.2,0.65, 0.45,0.12],\n",
    "                [0.8,0.35,0.55,0.15]\n",
    "                ])\n",
    "print(Wxh)"
   ]
  },
  {
   "cell_type": "markdown",
   "metadata": {
    "id": "l-hlAFAeULso"
   },
   "source": [
    "#### Inicializar los pesos de la neurona en la capa de salida"
   ]
  },
  {
   "cell_type": "code",
   "execution_count": 3,
   "metadata": {
    "colab": {
     "base_uri": "https://localhost:8080/"
    },
    "id": "o9Vvyc8nS8vH",
    "outputId": "0e700708-10df-4966-9ac4-2a3562cbee04"
   },
   "outputs": [
    {
     "name": "stdout",
     "output_type": "stream",
     "text": [
      "[[0.2 ]\n",
      " [0.35]\n",
      " [0.45]\n",
      " [0.52]]\n"
     ]
    }
   ],
   "source": [
    "Why = np.array([[0.2],  \n",
    "                [0.35], \n",
    "                [0.45], \n",
    "                [0.52], \n",
    "                ])\n",
    "print(Why)"
   ]
  },
  {
   "cell_type": "markdown",
   "metadata": {
    "id": "iPEB3R-eUlKS"
   },
   "source": [
    "#### Inicializamos los sesgos"
   ]
  },
  {
   "cell_type": "code",
   "execution_count": 4,
   "metadata": {
    "colab": {
     "base_uri": "https://localhost:8080/"
    },
    "id": "U7sR2lBVS8sj",
    "outputId": "3248999b-e019-4d51-ec05-a13b1816dc21"
   },
   "outputs": [
    {
     "name": "stdout",
     "output_type": "stream",
     "text": [
      "[0 0 0 0] 0\n"
     ]
    }
   ],
   "source": [
    "bh = np.array([0 ,0,0,0 ])\n",
    "by = 0\n",
    "print(bh,by)"
   ]
  },
  {
   "cell_type": "markdown",
   "metadata": {
    "id": "vJ02Sca3U6LT"
   },
   "source": [
    "#### Definir funcion de activacion\n",
    "\n",
    "Como la sigmoide o la logit"
   ]
  },
  {
   "cell_type": "code",
   "execution_count": 5,
   "metadata": {
    "id": "6Ba7BJ9dS8pz"
   },
   "outputs": [],
   "source": [
    "def sigmoid(x):\n",
    "  s= 1/(1 + np.exp(-x))\n",
    "  return s"
   ]
  },
  {
   "cell_type": "markdown",
   "metadata": {
    "id": "uvvGdaVXVJne"
   },
   "source": [
    "#### Definir la propagacion hacia delante "
   ]
  },
  {
   "cell_type": "code",
   "execution_count": 6,
   "metadata": {
    "id": "ofSCaDVeVD23"
   },
   "outputs": [],
   "source": [
    "def forward_prop(x):\n",
    "  global z1,z2\n",
    "  z1 = np.dot(x,Wxh)+bh   #capa oculta  -- (1x2) (2x4) = (1x4) --> (1x4)+(1x4) --> 1x4\n",
    "  a1 = sigmoid(z1)          #capa oculta  -- (1x4)\n",
    "  z2 = np.dot(a1, Why)+by #capa salida  -- (1x4) (4x1)\n",
    "  y_gorro = sigmoid(z2)     #capa salida  -- (1x1) -- escalar\n",
    "  return y_gorro "
   ]
  },
  {
   "cell_type": "markdown",
   "metadata": {
    "id": "KWkoNjxBjlBo"
   },
   "source": [
    "# Back propagation"
   ]
  },
  {
   "cell_type": "code",
   "execution_count": 7,
   "metadata": {
    "id": "bfCAu2BUjtX5"
   },
   "outputs": [],
   "source": [
    "import matplotlib.pyplot as plt"
   ]
  },
  {
   "cell_type": "markdown",
   "metadata": {
    "id": "dux4HNC4j7nd"
   },
   "source": [
    "#### Definicion de la derivada de la sigmoide"
   ]
  },
  {
   "cell_type": "code",
   "execution_count": 8,
   "metadata": {
    "id": "ujJHvgF9WcXg"
   },
   "outputs": [],
   "source": [
    "def sigmoidPrime(x):\n",
    "  d = (np.exp(-x)) / ((1 + np.exp(-x))**2)\n",
    "  return d"
   ]
  },
  {
   "cell_type": "code",
   "execution_count": 9,
   "metadata": {
    "id": "qFL2-UG1kiYT"
   },
   "outputs": [],
   "source": [
    "def back_prop(y_gorro, z1,a1,z2,y, alpha ):\n",
    "  global Wxh, Why ,dJ_dWxh\n",
    "  delta2 = np.multiply(-(y-y_gorro), sigmoidPrime(z2)) # --> 1x1 X 1x1       = 1x1\n",
    "  dJ_dWhy = np.dot(a1.reshape(4,1) , delta2)           # --> 4x1.T * 1x1     = 4x1 \n",
    "  delta1= np.dot(delta2, Why.T)*sigmoidPrime(z1)       # --> 1x1 * 1x4.T * 1 = 1x4\n",
    "  dJ_dWxh =np.dot(X.reshape(11,1) , delta1.reshape(1,4)) # --> 11x1 * 1x4    = 11x4\n",
    "  Wxh = Wxh - alpha * dJ_dWxh                          # --> 4x1 -alpha * 11x4 =\n",
    "  Why =  Why  - alpha * dJ_dWhy.reshape(4,1)\n",
    "  return Wxh, Why #Wxh 2 x 4 \\\\ Why 4x1"
   ]
  },
  {
   "cell_type": "code",
   "execution_count": 10,
   "metadata": {},
   "outputs": [
    {
     "data": {
      "text/html": [
       "<div>\n",
       "<style scoped>\n",
       "    .dataframe tbody tr th:only-of-type {\n",
       "        vertical-align: middle;\n",
       "    }\n",
       "\n",
       "    .dataframe tbody tr th {\n",
       "        vertical-align: top;\n",
       "    }\n",
       "\n",
       "    .dataframe thead th {\n",
       "        text-align: right;\n",
       "    }\n",
       "</style>\n",
       "<table border=\"1\" class=\"dataframe\">\n",
       "  <thead>\n",
       "    <tr style=\"text-align: right;\">\n",
       "      <th></th>\n",
       "      <th>Retire Before 65 Years Old</th>\n",
       "      <th>Gender</th>\n",
       "      <th>Desease</th>\n",
       "      <th>Education Level</th>\n",
       "      <th>Marital Status</th>\n",
       "      <th>Monthly Income</th>\n",
       "      <th>Employee/Employer</th>\n",
       "      <th>Dependants</th>\n",
       "      <th>Unemployment Rate</th>\n",
       "      <th>Stock Market</th>\n",
       "      <th>Credit Score</th>\n",
       "      <th>Government Bonds Return</th>\n",
       "    </tr>\n",
       "  </thead>\n",
       "  <tbody>\n",
       "    <tr>\n",
       "      <th>0</th>\n",
       "      <td>1</td>\n",
       "      <td>1</td>\n",
       "      <td>1</td>\n",
       "      <td>3</td>\n",
       "      <td>0</td>\n",
       "      <td>18000</td>\n",
       "      <td>0</td>\n",
       "      <td>4</td>\n",
       "      <td>3.444876</td>\n",
       "      <td>24066.16667</td>\n",
       "      <td>699</td>\n",
       "      <td>7.715833</td>\n",
       "    </tr>\n",
       "    <tr>\n",
       "      <th>1</th>\n",
       "      <td>0</td>\n",
       "      <td>1</td>\n",
       "      <td>0</td>\n",
       "      <td>3</td>\n",
       "      <td>0</td>\n",
       "      <td>32000</td>\n",
       "      <td>0</td>\n",
       "      <td>1</td>\n",
       "      <td>5.023797</td>\n",
       "      <td>42063.16667</td>\n",
       "      <td>639</td>\n",
       "      <td>5.414833</td>\n",
       "    </tr>\n",
       "    <tr>\n",
       "      <th>2</th>\n",
       "      <td>0</td>\n",
       "      <td>1</td>\n",
       "      <td>1</td>\n",
       "      <td>4</td>\n",
       "      <td>0</td>\n",
       "      <td>20000</td>\n",
       "      <td>0</td>\n",
       "      <td>2</td>\n",
       "      <td>5.355220</td>\n",
       "      <td>30100.50000</td>\n",
       "      <td>610</td>\n",
       "      <td>7.962750</td>\n",
       "    </tr>\n",
       "    <tr>\n",
       "      <th>3</th>\n",
       "      <td>0</td>\n",
       "      <td>0</td>\n",
       "      <td>1</td>\n",
       "      <td>4</td>\n",
       "      <td>1</td>\n",
       "      <td>35000</td>\n",
       "      <td>1</td>\n",
       "      <td>1</td>\n",
       "      <td>3.843570</td>\n",
       "      <td>24066.16667</td>\n",
       "      <td>649</td>\n",
       "      <td>7.715833</td>\n",
       "    </tr>\n",
       "    <tr>\n",
       "      <th>4</th>\n",
       "      <td>0</td>\n",
       "      <td>0</td>\n",
       "      <td>1</td>\n",
       "      <td>3</td>\n",
       "      <td>0</td>\n",
       "      <td>27000</td>\n",
       "      <td>0</td>\n",
       "      <td>1</td>\n",
       "      <td>4.949226</td>\n",
       "      <td>19439.00000</td>\n",
       "      <td>638</td>\n",
       "      <td>8.024167</td>\n",
       "    </tr>\n",
       "    <tr>\n",
       "      <th>...</th>\n",
       "      <td>...</td>\n",
       "      <td>...</td>\n",
       "      <td>...</td>\n",
       "      <td>...</td>\n",
       "      <td>...</td>\n",
       "      <td>...</td>\n",
       "      <td>...</td>\n",
       "      <td>...</td>\n",
       "      <td>...</td>\n",
       "      <td>...</td>\n",
       "      <td>...</td>\n",
       "      <td>...</td>\n",
       "    </tr>\n",
       "    <tr>\n",
       "      <th>1495</th>\n",
       "      <td>1</td>\n",
       "      <td>0</td>\n",
       "      <td>0</td>\n",
       "      <td>5</td>\n",
       "      <td>1</td>\n",
       "      <td>26000</td>\n",
       "      <td>0</td>\n",
       "      <td>2</td>\n",
       "      <td>5.111358</td>\n",
       "      <td>32304.66667</td>\n",
       "      <td>604</td>\n",
       "      <td>7.193917</td>\n",
       "    </tr>\n",
       "    <tr>\n",
       "      <th>1496</th>\n",
       "      <td>0</td>\n",
       "      <td>1</td>\n",
       "      <td>0</td>\n",
       "      <td>3</td>\n",
       "      <td>0</td>\n",
       "      <td>32000</td>\n",
       "      <td>0</td>\n",
       "      <td>4</td>\n",
       "      <td>4.929185</td>\n",
       "      <td>41229.83333</td>\n",
       "      <td>753</td>\n",
       "      <td>5.910000</td>\n",
       "    </tr>\n",
       "    <tr>\n",
       "      <th>1497</th>\n",
       "      <td>1</td>\n",
       "      <td>1</td>\n",
       "      <td>1</td>\n",
       "      <td>4</td>\n",
       "      <td>1</td>\n",
       "      <td>17000</td>\n",
       "      <td>0</td>\n",
       "      <td>2</td>\n",
       "      <td>5.054852</td>\n",
       "      <td>37846.16667</td>\n",
       "      <td>631</td>\n",
       "      <td>6.198750</td>\n",
       "    </tr>\n",
       "    <tr>\n",
       "      <th>1498</th>\n",
       "      <td>0</td>\n",
       "      <td>0</td>\n",
       "      <td>0</td>\n",
       "      <td>5</td>\n",
       "      <td>0</td>\n",
       "      <td>26000</td>\n",
       "      <td>0</td>\n",
       "      <td>2</td>\n",
       "      <td>4.827790</td>\n",
       "      <td>41229.83333</td>\n",
       "      <td>613</td>\n",
       "      <td>5.910000</td>\n",
       "    </tr>\n",
       "    <tr>\n",
       "      <th>1499</th>\n",
       "      <td>0</td>\n",
       "      <td>0</td>\n",
       "      <td>1</td>\n",
       "      <td>3</td>\n",
       "      <td>1</td>\n",
       "      <td>33000</td>\n",
       "      <td>1</td>\n",
       "      <td>1</td>\n",
       "      <td>5.195010</td>\n",
       "      <td>31577.33333</td>\n",
       "      <td>649</td>\n",
       "      <td>7.701083</td>\n",
       "    </tr>\n",
       "  </tbody>\n",
       "</table>\n",
       "<p>1500 rows × 12 columns</p>\n",
       "</div>"
      ],
      "text/plain": [
       "      Retire Before 65 Years Old  Gender  Desease  Education Level   \n",
       "0                              1       1        1                3  \\\n",
       "1                              0       1        0                3   \n",
       "2                              0       1        1                4   \n",
       "3                              0       0        1                4   \n",
       "4                              0       0        1                3   \n",
       "...                          ...     ...      ...              ...   \n",
       "1495                           1       0        0                5   \n",
       "1496                           0       1        0                3   \n",
       "1497                           1       1        1                4   \n",
       "1498                           0       0        0                5   \n",
       "1499                           0       0        1                3   \n",
       "\n",
       "      Marital Status  Monthly Income  Employee/Employer  Dependants   \n",
       "0                  0           18000                  0           4  \\\n",
       "1                  0           32000                  0           1   \n",
       "2                  0           20000                  0           2   \n",
       "3                  1           35000                  1           1   \n",
       "4                  0           27000                  0           1   \n",
       "...              ...             ...                ...         ...   \n",
       "1495               1           26000                  0           2   \n",
       "1496               0           32000                  0           4   \n",
       "1497               1           17000                  0           2   \n",
       "1498               0           26000                  0           2   \n",
       "1499               1           33000                  1           1   \n",
       "\n",
       "      Unemployment Rate  Stock Market  Credit Score  Government Bonds Return  \n",
       "0              3.444876   24066.16667           699                 7.715833  \n",
       "1              5.023797   42063.16667           639                 5.414833  \n",
       "2              5.355220   30100.50000           610                 7.962750  \n",
       "3              3.843570   24066.16667           649                 7.715833  \n",
       "4              4.949226   19439.00000           638                 8.024167  \n",
       "...                 ...           ...           ...                      ...  \n",
       "1495           5.111358   32304.66667           604                 7.193917  \n",
       "1496           4.929185   41229.83333           753                 5.910000  \n",
       "1497           5.054852   37846.16667           631                 6.198750  \n",
       "1498           4.827790   41229.83333           613                 5.910000  \n",
       "1499           5.195010   31577.33333           649                 7.701083  \n",
       "\n",
       "[1500 rows x 12 columns]"
      ]
     },
     "execution_count": 10,
     "metadata": {},
     "output_type": "execute_result"
    }
   ],
   "source": [
    "df = pd.read_csv(\"EarlyRetirementPrediction.csv\")\n",
    "df"
   ]
  },
  {
   "cell_type": "code",
   "execution_count": 11,
   "metadata": {},
   "outputs": [],
   "source": [
    "\n",
    "df = df.reset_index()  # make sure indexes pair with number of rows\n",
    "\n",
    "alpha= 0.025\n",
    "\n",
    "for index, row in df.iterrows():\n",
    "    X = np.array([row['Gender'],\n",
    "                  row['Desease'],\n",
    "                  row['Monthly Income'],\n",
    "                  row['Dependants'],\n",
    "                  row['Education Level'],\n",
    "                  row['Marital Status'],\n",
    "                  row['Employee/Employer'],\n",
    "                  row['Unemployment Rate'],\n",
    "                  row['Stock Market'],\n",
    "                  row['Credit Score'],\n",
    "                  row['Government Bonds Return']])\n",
    "    y_gorro_gender = forward_prop(X)\n",
    "    z1  = np.dot(X, Wxh) + bh\n",
    "    a1 = sigmoid(z1)\n",
    "    z2 = np.dot(a1, Why) + by\n",
    "    back_prop(y_gorro_gender, z1,a1,z2,row['Retire Before 65 Years Old'], alpha )\n",
    "#row['Retire Before 65 Years  = y    "
   ]
  },
  {
   "cell_type": "code",
   "execution_count": 12,
   "metadata": {},
   "outputs": [
    {
     "data": {
      "text/plain": [
       "array([0.48776092])"
      ]
     },
     "execution_count": 12,
     "metadata": {},
     "output_type": "execute_result"
    }
   ],
   "source": [
    "y_gorro_gender"
   ]
  },
  {
   "cell_type": "code",
   "execution_count": 13,
   "metadata": {},
   "outputs": [
    {
     "name": "stdout",
     "output_type": "stream",
     "text": [
      "[[0.2  0.65 0.45 0.12]\n",
      " [0.8  0.35 0.55 0.15]\n",
      " [0.2  0.65 0.45 0.12]\n",
      " [0.8  0.35 0.55 0.15]\n",
      " [0.2  0.65 0.45 0.12]\n",
      " [0.8  0.35 0.55 0.15]\n",
      " [0.2  0.65 0.45 0.12]\n",
      " [0.8  0.35 0.55 0.15]\n",
      " [0.8  0.35 0.55 0.15]\n",
      " [0.2  0.65 0.45 0.12]\n",
      " [0.8  0.35 0.55 0.15]]\n"
     ]
    }
   ],
   "source": [
    "print(Wxh)"
   ]
  },
  {
   "cell_type": "code",
   "execution_count": 14,
   "metadata": {},
   "outputs": [
    {
     "name": "stdout",
     "output_type": "stream",
     "text": [
      "[[-0.1952882]\n",
      " [-0.0452882]\n",
      " [ 0.0547118]\n",
      " [ 0.1247118]]\n"
     ]
    }
   ],
   "source": [
    "print(Why)"
   ]
  },
  {
   "attachments": {},
   "cell_type": "markdown",
   "metadata": {},
   "source": [
    "llamamos al "
   ]
  },
  {
   "cell_type": "code",
   "execution_count": 15,
   "metadata": {},
   "outputs": [
    {
     "data": {
      "text/plain": [
       "array([1.00000000e+00, 0.00000000e+00, 3.00000000e+00, 0.00000000e+00,\n",
       "       3.20000000e+04, 0.00000000e+00, 1.00000000e+00, 5.02379729e+00,\n",
       "       4.20631667e+04, 6.39000000e+02, 5.41483333e+00])"
      ]
     },
     "execution_count": 15,
     "metadata": {},
     "output_type": "execute_result"
    }
   ],
   "source": [
    "l = df.iloc[1,2:].values\n",
    "l"
   ]
  },
  {
   "cell_type": "code",
   "execution_count": 16,
   "metadata": {},
   "outputs": [
    {
     "data": {
      "text/plain": [
       "array([0.48471656])"
      ]
     },
     "execution_count": 16,
     "metadata": {},
     "output_type": "execute_result"
    }
   ],
   "source": [
    "forward_prop(l)  #0.02182 "
   ]
  }
 ],
 "metadata": {
  "colab": {
   "provenance": []
  },
  "kernelspec": {
   "display_name": "Python 3 (ipykernel)",
   "language": "python",
   "name": "python3"
  },
  "language_info": {
   "codemirror_mode": {
    "name": "ipython",
    "version": 3
   },
   "file_extension": ".py",
   "mimetype": "text/x-python",
   "name": "python",
   "nbconvert_exporter": "python",
   "pygments_lexer": "ipython3",
   "version": "3.10.10"
  }
 },
 "nbformat": 4,
 "nbformat_minor": 1
}
