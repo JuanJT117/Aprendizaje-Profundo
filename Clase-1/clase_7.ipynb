{
 "cells": [
  {
   "attachments": {},
   "cell_type": "markdown",
   "metadata": {},
   "source": [
    "# Redes Neuronales Recurrentes (RNN, Recurrent Neurons Network)"
   ]
  },
  {
   "cell_type": "code",
   "execution_count": 1,
   "metadata": {},
   "outputs": [],
   "source": [
    "import pandas as pd\n",
    "import numpy as np"
   ]
  },
  {
   "attachments": {},
   "cell_type": "markdown",
   "metadata": {},
   "source": [
    "Iniciamos colocando valores para la predeiccion del precio del petroleo, a modo de ejemplo"
   ]
  },
  {
   "cell_type": "code",
   "execution_count": 3,
   "metadata": {},
   "outputs": [
    {
     "data": {
      "text/plain": [
       "(1, 4, 1)"
      ]
     },
     "execution_count": 3,
     "metadata": {},
     "output_type": "execute_result"
    }
   ],
   "source": [
    "#datos de series de timepo, donde tenemos 4 datos del precio del petroleo y queremos predecir el quinto\n",
    "\n",
    "x=[31.42, 32.77, 32.64, 33.95] \n",
    "\n",
    "##\n",
    "### transformamos la lista en un arreglo 4X1 \n",
    "### en este ejemplo solo tenemos una capa de profundidad\n",
    "##\n",
    "\n",
    "x_input = np.reshape(x,(1,4,1))\n",
    "x_input.shape"
   ]
  },
  {
   "cell_type": "code",
   "execution_count": 4,
   "metadata": {},
   "outputs": [
    {
     "data": {
      "text/plain": [
       "array([[[31.42],\n",
       "        [32.77],\n",
       "        [32.64],\n",
       "        [33.95]]])"
      ]
     },
     "execution_count": 4,
     "metadata": {},
     "output_type": "execute_result"
    }
   ],
   "source": [
    "x_input"
   ]
  },
  {
   "attachments": {},
   "cell_type": "markdown",
   "metadata": {},
   "source": [
    "#### Se realizara la propagacion hacia delante"
   ]
  },
  {
   "cell_type": "code",
   "execution_count": 5,
   "metadata": {},
   "outputs": [],
   "source": [
    "#inicializamos los pesos de los imput de los PESOS (Weigths)\n",
    "# wx = el primer valor corresponde al peso de la neurona 1, el segundo al peso de la neurona dos\n",
    "wx = [[0.18662322, 1.2369459]] \n",
    "# wh = inicializamos el peso de la memoria anterior que es una matriz de 2X2\n",
    "#de igual forma el primer elemento corresponde al PESO de la neurona 1 y el segundo a la nerona dos, y de igual para cada caso\n",
    "wh = [[0.86981213, 0.49338293],[0.49338293, 0.8698122]]\n",
    "# bh = sesgo 1x2 ya que tenemos dos neuronas\n",
    "bh = [0,0]\n",
    "# wy = pesos para la prediccion 2x1\n",
    "wy = [[0.4635998],[0.6538409]]\n",
    "# by = sesgo final 0 ya que al inicializar aun no se genera\n",
    "by = [0]\n"
   ]
  },
  {
   "attachments": {},
   "cell_type": "markdown",
   "metadata": {},
   "source": [
    "Generamos la recurrencia de la red neuronal"
   ]
  },
  {
   "cell_type": "code",
   "execution_count": 20,
   "metadata": {},
   "outputs": [
    {
     "data": {
      "text/plain": [
       "[31.42, 32.77, 32.64, 33.95]"
      ]
     },
     "execution_count": 20,
     "metadata": {},
     "output_type": "execute_result"
    }
   ],
   "source": [
    "x"
   ]
  },
  {
   "cell_type": "code",
   "execution_count": 17,
   "metadata": {},
   "outputs": [],
   "source": [
    "# m = dos neuronas recurrentes\n",
    "m = 2\n",
    "# inicializamos el vector de memoria m = 2 -->  h0 =np.zeros(m)  -->  array([0., 0.])\n",
    "h0 = np.zeros(m)\n",
    "h1 = np.dot(x[0], wx) + h0 +bh             # --->  array([[ 5.86370157, 38.86484018]])\n",
    "h2 = np.dot(x[1], wx) + np.dot(h1,wh)+ bh  # --->  array([[30.39121039, 77.23287954]])\n",
    "h3 = np.dot(x[2], wx) + np.dot(h2,wh)+ bh  # --->  array([[ 70.63140975, 122.54651947]])\n",
    "h4 = np.dot(x[3], wx) + np.dot(h3,wh)+ bh  # --->  array([[128.23427612, 183.4351029 ]])\n",
    "y4 = np.dot(h4, wy) + by                   #---->  array([[179.38675754]])\n",
    "\n"
   ]
  },
  {
   "cell_type": "code",
   "execution_count": 18,
   "metadata": {},
   "outputs": [
    {
     "data": {
      "text/plain": [
       "array([[179.38675754]])"
      ]
     },
     "execution_count": 18,
     "metadata": {},
     "output_type": "execute_result"
    }
   ],
   "source": [
    "y4"
   ]
  },
  {
   "attachments": {},
   "cell_type": "markdown",
   "metadata": {},
   "source": [
    "### Propagacion hacia atras; Back propagation using RNN"
   ]
  },
  {
   "attachments": {},
   "cell_type": "markdown",
   "metadata": {},
   "source": [
    "cuando quedemos calcular probabilñidades empleamos como funcion de costo la funcion de entropia cruzada \n",
    "\n",
    "$L_t=-y_t\\log (\\hat{y}_t)$\n",
    "\n",
    "que es la multiplicacion de la $y_t$ real por el $log$ de la $\\hat{y}_t$ estimada"
   ]
  }
 ],
 "metadata": {
  "kernelspec": {
   "display_name": "Python 3",
   "language": "python",
   "name": "python3"
  },
  "language_info": {
   "codemirror_mode": {
    "name": "ipython",
    "version": 3
   },
   "file_extension": ".py",
   "mimetype": "text/x-python",
   "name": "python",
   "nbconvert_exporter": "python",
   "pygments_lexer": "ipython3",
   "version": "3.10.10"
  },
  "orig_nbformat": 4
 },
 "nbformat": 4,
 "nbformat_minor": 2
}
